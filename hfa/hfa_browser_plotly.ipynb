{
 "cells": [
  {
   "cell_type": "markdown",
   "metadata": {},
   "source": [
    "## Preliminaries"
   ]
  },
  {
   "cell_type": "code",
   "execution_count": 1,
   "metadata": {
    "collapsed": false
   },
   "outputs": [
    {
     "name": "stderr",
     "output_type": "stream",
     "text": [
      "/Users/gauden/anaconda/lib/python2.7/site-packages/pytz/__init__.py:29: UserWarning: Module argparse was already imported from /Users/gauden/anaconda/lib/python2.7/argparse.pyc, but /Users/gauden/anaconda/lib/python2.7/site-packages is being added to sys.path\n",
      "  from pkg_resources import resource_stream\n"
     ]
    }
   ],
   "source": [
    "import zipfile\n",
    "import os\n",
    "import glob\n",
    "\n",
    "import pandas as pd"
   ]
  },
  {
   "cell_type": "code",
   "execution_count": 2,
   "metadata": {
    "collapsed": false
   },
   "outputs": [],
   "source": [
    "import plotly.plotly as py\n",
    "from plotly.graph_objs import *\n",
    "import plotly.tools as tls"
   ]
  },
  {
   "cell_type": "code",
   "execution_count": 3,
   "metadata": {
    "collapsed": true
   },
   "outputs": [],
   "source": [
    "DATA = os.path.join('.', 'data')\n",
    "FIGS = os.path.join('.', 'fig')\n",
    "# ZIP_F = os.path.join(DATA, 'HFAAllData20140516.csv.zip')\n",
    "# CSV_F = 'HFAAllData.csv'  # tab-separated file inside the zip archive\n",
    "PKL_F = os.path.join(DATA, 'HFA.pkl')  # pickle file of the pandas DataFrame"
   ]
  },
  {
   "cell_type": "markdown",
   "metadata": {},
   "source": [
    "## Import Dataset"
   ]
  },
  {
   "cell_type": "markdown",
   "metadata": {},
   "source": [
    "The fillowing utility functions import a CSV file into a Pandas DataFrame and perform some cleaning up. At the end of the process, if no error is encountered, there should be a global dataframe called `HFA` available for the rest of the script."
   ]
  },
  {
   "cell_type": "markdown",
   "metadata": {},
   "source": [
    "### Utilities"
   ]
  },
  {
   "cell_type": "markdown",
   "metadata": {},
   "source": [
    "The `indicator_id` column is a string with the characters `'HFA-'` added as a prefix to the numerical id. The `tidy_df()` function extracts the numerical id and stores it as an integer in the DataFrame."
   ]
  },
  {
   "cell_type": "code",
   "execution_count": 4,
   "metadata": {
    "collapsed": true
   },
   "outputs": [],
   "source": [
    "def tidy_df(df):\n",
    "    '''Clean up the dataframe indicator column; return tidy DataFrame'''\n",
    "    assert isinstance(df, pd.DataFrame)\n",
    "    df.indicator_id = df.indicator_id.str.split('-')\n",
    "    df.indicator_id = df.indicator_id.str.get(1)\n",
    "    df.indicator_id = df.indicator_id.astype(int)\n",
    "    return df"
   ]
  },
  {
   "cell_type": "markdown",
   "metadata": {},
   "source": [
    "The `retrieve_csv_from_zip(zip_f)` function makes a few assumptions: that there is a zip archive inside the local data folder; that there is only one such archive and it has a filename ending in `.zip`; that the first member inside the archive is a file in CSV format with tab separators between fields and with a filename that ends in `.csv`.\n",
    "\n",
    "If all these assumptions are met, the function returns a dataframe with the contents of the CSV file as well as the filename of the ZIP archive."
   ]
  },
  {
   "cell_type": "code",
   "execution_count": 5,
   "metadata": {
    "collapsed": true
   },
   "outputs": [],
   "source": [
    "def retrieve_csv_from_zip(zip_f):\n",
    "    hfa_df = None\n",
    "    csv_file = ''\n",
    "    \n",
    "    fh = open(zip_f, 'rb')\n",
    "    with zipfile.ZipFile(fh) as z:\n",
    "        # get list of objects inside the archive\n",
    "        zip_objs = z.infolist()\n",
    "        if not zip_objs:\n",
    "            raise IOError('Zip archive in data folder is empty.')\n",
    "            \n",
    "        # check if the first member is a CSV file\n",
    "        csv_file = zip_objs[0].filename\n",
    "        if not csv_file.endswith('.csv'):\n",
    "            raise IOError('Non-CSV file found in Zip archive.')\n",
    "        \n",
    "        # compressed file found in Zip archive has .csv suffix\n",
    "        # let's try to read it\n",
    "        with z.open(csv_file) as f:\n",
    "            try:\n",
    "                hfa_df = pd.read_csv(f, sep='\\t', header=None,\n",
    "                                     names=['year', 'indicator_id',\n",
    "                                            'indicator', 'country',\n",
    "                                            'value'])\n",
    "            except:\n",
    "                raise IOError('Invalid CSV contents found; error in Pandas import.')\n",
    "    return zip_f, hfa_df"
   ]
  },
  {
   "cell_type": "markdown",
   "metadata": {},
   "source": [
    "Once the ZIP archive has been processed (by extracting the dataframe from inside it), the file is renamed by adding the suffice `.processed` so that it will not be used again for importation but remains available for reference."
   ]
  },
  {
   "cell_type": "code",
   "execution_count": 6,
   "metadata": {
    "collapsed": true
   },
   "outputs": [],
   "source": [
    "def rename_zip(data_dir, zf):\n",
    "    try:\n",
    "        pf = '{}.processed'.format(zf)\n",
    "        os.rename(zf, pf)\n",
    "        return True\n",
    "    except:\n",
    "        raise IOError('Could not rename zip file after processing.')"
   ]
  },
  {
   "cell_type": "markdown",
   "metadata": {},
   "source": [
    "The importation logic is governed by this function, `retrieve_df(data_dir, pkl_file)` and follows this sequence:\n",
    "\n",
    "- Is there an unprocessed zip archive in the data folder? \n",
    "    - If so, import the csv file, tidy up the data, serialize the dataframe, and mark the zip file as processed.\n",
    "    - If not, then is there a pickled Dataframe in the data folder? If so, load it. \n",
    "    - If all the above steps are unsuccessful, raise `IOError`"
   ]
  },
  {
   "cell_type": "code",
   "execution_count": 7,
   "metadata": {
    "collapsed": false,
    "scrolled": true
   },
   "outputs": [],
   "source": [
    "def retrieve_df(data_dir, pkl_file):\n",
    "    hfa = None\n",
    "    zip_pattern = '{}/*.zip'.format(data_dir)\n",
    "    zip_f_list = glob.glob(zip_pattern)\n",
    "    \n",
    "    if zip_f_list:\n",
    "        zip_f = zip_f_list[0]\n",
    "        zip_f, hfa = retrieve_csv_from_zip(zip_f)\n",
    "        hfa = tidy_df(hfa)\n",
    "        hfa.to_pickle(pkl_file)\n",
    "        rename_zip(data_dir, zip_f)\n",
    "    elif os.path.isfile(pkl_file):\n",
    "        hfa = pd.read_pickle(pkl_file)\n",
    "    else:\n",
    "        raise IOError('No valid data source discovered.')\n",
    "    return hfa"
   ]
  },
  {
   "cell_type": "code",
   "execution_count": 8,
   "metadata": {
    "collapsed": false
   },
   "outputs": [
    {
     "data": {
      "text/html": [
       "<div style=\"max-height:1000px;max-width:1500px;overflow:auto;\">\n",
       "<table border=\"1\" class=\"dataframe\">\n",
       "  <thead>\n",
       "    <tr style=\"text-align: right;\">\n",
       "      <th></th>\n",
       "      <th>year</th>\n",
       "      <th>indicator_id</th>\n",
       "      <th>indicator</th>\n",
       "      <th>country</th>\n",
       "      <th>value</th>\n",
       "    </tr>\n",
       "  </thead>\n",
       "  <tbody>\n",
       "    <tr>\n",
       "      <th>0</th>\n",
       "      <td> 1970</td>\n",
       "      <td> 10</td>\n",
       "      <td> Mid-year population</td>\n",
       "      <td>    Albania</td>\n",
       "      <td> 2138000</td>\n",
       "    </tr>\n",
       "    <tr>\n",
       "      <th>1</th>\n",
       "      <td> 1970</td>\n",
       "      <td> 10</td>\n",
       "      <td> Mid-year population</td>\n",
       "      <td>    Austria</td>\n",
       "      <td> 7390900</td>\n",
       "    </tr>\n",
       "    <tr>\n",
       "      <th>2</th>\n",
       "      <td> 1970</td>\n",
       "      <td> 10</td>\n",
       "      <td> Mid-year population</td>\n",
       "      <td> Azerbaijan</td>\n",
       "      <td> 5172050</td>\n",
       "    </tr>\n",
       "    <tr>\n",
       "      <th>3</th>\n",
       "      <td> 1970</td>\n",
       "      <td> 10</td>\n",
       "      <td> Mid-year population</td>\n",
       "      <td>    Belgium</td>\n",
       "      <td> 9637700</td>\n",
       "    </tr>\n",
       "    <tr>\n",
       "      <th>4</th>\n",
       "      <td> 1970</td>\n",
       "      <td> 10</td>\n",
       "      <td> Mid-year population</td>\n",
       "      <td>   Bulgaria</td>\n",
       "      <td> 8489600</td>\n",
       "    </tr>\n",
       "  </tbody>\n",
       "</table>\n",
       "</div>"
      ],
      "text/plain": [
       "   year  indicator_id            indicator     country    value\n",
       "0  1970            10  Mid-year population     Albania  2138000\n",
       "1  1970            10  Mid-year population     Austria  7390900\n",
       "2  1970            10  Mid-year population  Azerbaijan  5172050\n",
       "3  1970            10  Mid-year population     Belgium  9637700\n",
       "4  1970            10  Mid-year population    Bulgaria  8489600"
      ]
     },
     "execution_count": 8,
     "metadata": {},
     "output_type": "execute_result"
    }
   ],
   "source": [
    "HFA = retrieve_df(data_dir=DATA, pkl_file=PKL_F)\n",
    "\n",
    "HFA.head()"
   ]
  },
  {
   "cell_type": "markdown",
   "metadata": {},
   "source": [
    "The DataFrame is now in 'tidy' format with each column a variable and each row an observation."
   ]
  },
  {
   "cell_type": "markdown",
   "metadata": {},
   "source": [
    "### Indicators Utility Function"
   ]
  },
  {
   "cell_type": "markdown",
   "metadata": {},
   "source": [
    "The next cell creates a DataFrame called `INDICATORS` with distinct values of all the HFA indicators as well as their serial numbers. \n",
    "\n",
    "The function `find_indicators()` accepts a list of Python strings and returns the rows in `INDICATORS` that contain all of these strings; it searches the indicators using a logical `AND` on all the string fragments."
   ]
  },
  {
   "cell_type": "code",
   "execution_count": 9,
   "metadata": {
    "collapsed": true
   },
   "outputs": [],
   "source": [
    "INDICATORS = HFA[['indicator_id', 'indicator']]\n",
    "INDICATORS = INDICATORS.drop_duplicates()\n",
    "\n",
    "def find_indicators(search_list):\n",
    "    result = INDICATORS.copy()\n",
    "    for pattern in search_list:\n",
    "        result = result[result.indicator.str.contains(pattern)]\n",
    "    return result"
   ]
  },
  {
   "cell_type": "code",
   "execution_count": 16,
   "metadata": {
    "collapsed": false
   },
   "outputs": [
    {
     "data": {
      "text/plain": [
       "595"
      ]
     },
     "execution_count": 16,
     "metadata": {},
     "output_type": "execute_result"
    }
   ],
   "source": [
    "len(INDICATORS)  # number of rows = number of unique indicators"
   ]
  },
  {
   "cell_type": "markdown",
   "metadata": {},
   "source": [
    "## Plotting a Simple Trend"
   ]
  },
  {
   "cell_type": "code",
   "execution_count": 20,
   "metadata": {
    "collapsed": false
   },
   "outputs": [
    {
     "data": {
      "text/html": [
       "<div style=\"max-height:1000px;max-width:1500px;overflow:auto;\">\n",
       "<table border=\"1\" class=\"dataframe\">\n",
       "  <thead>\n",
       "    <tr style=\"text-align: right;\">\n",
       "      <th></th>\n",
       "      <th>year</th>\n",
       "      <th>indicator_id</th>\n",
       "      <th>indicator</th>\n",
       "      <th>country</th>\n",
       "      <th>value</th>\n",
       "    </tr>\n",
       "  </thead>\n",
       "  <tbody>\n",
       "    <tr>\n",
       "      <th>26   </th>\n",
       "      <td> 1970</td>\n",
       "      <td> 10</td>\n",
       "      <td> Mid-year population</td>\n",
       "      <td> Russian Federation</td>\n",
       "      <td> 129941000</td>\n",
       "    </tr>\n",
       "    <tr>\n",
       "      <th>6606 </th>\n",
       "      <td> 1971</td>\n",
       "      <td> 10</td>\n",
       "      <td> Mid-year population</td>\n",
       "      <td> Russian Federation</td>\n",
       "      <td> 130563000</td>\n",
       "    </tr>\n",
       "    <tr>\n",
       "      <th>13760</th>\n",
       "      <td> 1972</td>\n",
       "      <td> 10</td>\n",
       "      <td> Mid-year population</td>\n",
       "      <td> Russian Federation</td>\n",
       "      <td> 131304000</td>\n",
       "    </tr>\n",
       "    <tr>\n",
       "      <th>20911</th>\n",
       "      <td> 1973</td>\n",
       "      <td> 10</td>\n",
       "      <td> Mid-year population</td>\n",
       "      <td> Russian Federation</td>\n",
       "      <td> 132069000</td>\n",
       "    </tr>\n",
       "    <tr>\n",
       "      <th>28070</th>\n",
       "      <td> 1974</td>\n",
       "      <td> 10</td>\n",
       "      <td> Mid-year population</td>\n",
       "      <td> Russian Federation</td>\n",
       "      <td> 132799000</td>\n",
       "    </tr>\n",
       "  </tbody>\n",
       "</table>\n",
       "</div>"
      ],
      "text/plain": [
       "       year  indicator_id            indicator             country      value\n",
       "26     1970            10  Mid-year population  Russian Federation  129941000\n",
       "6606   1971            10  Mid-year population  Russian Federation  130563000\n",
       "13760  1972            10  Mid-year population  Russian Federation  131304000\n",
       "20911  1973            10  Mid-year population  Russian Federation  132069000\n",
       "28070  1974            10  Mid-year population  Russian Federation  132799000"
      ]
     },
     "execution_count": 20,
     "metadata": {},
     "output_type": "execute_result"
    }
   ],
   "source": [
    "country = 'Russian Federation'\n",
    "indicator = 10\n",
    "\n",
    "data = HFA.ix[(HFA.indicator_id==indicator) & (HFA.country == country), :]\n",
    "data.head()"
   ]
  },
  {
   "cell_type": "code",
   "execution_count": 38,
   "metadata": {
    "collapsed": false
   },
   "outputs": [
    {
     "data": {
      "text/plain": [
       "'Mid-year population'"
      ]
     },
     "execution_count": 38,
     "metadata": {},
     "output_type": "execute_result"
    }
   ],
   "source": [
    "INDICATORS.indicator[INDICATORS.indicator_id == 10][0]"
   ]
  },
  {
   "cell_type": "code",
   "execution_count": 39,
   "metadata": {
    "collapsed": false
   },
   "outputs": [
    {
     "data": {
      "text/html": [
       "<iframe id=\"igraph\" scrolling=\"no\" style=\"border:none;\"seamless=\"seamless\" src=\"https://plot.ly/~gauden/108.embed\" height=\"525\" width=\"100%\"></iframe>"
      ],
      "text/plain": [
       "<plotly.tools.PlotlyDisplay object>"
      ]
     },
     "execution_count": 39,
     "metadata": {},
     "output_type": "execute_result"
    }
   ],
   "source": [
    "x = data.year\n",
    "y = data.value\n",
    "indicator_label = INDICATORS.indicator[INDICATORS.indicator_id == indicator][0]\n",
    "\n",
    "title = '{} - {}<br>(from {} to {})'.format(country, \n",
    "                                            indicator_label, \n",
    "                                            data.year.min(), \n",
    "                                            data.year.max()\n",
    "                                            )\n",
    "\n",
    "trace = Scatter(\n",
    "    x=x,\n",
    "    y=y\n",
    ")\n",
    "D = Data([trace])\n",
    "\n",
    "L = Layout(\n",
    "    title=title,\n",
    "    xaxis=XAxis(\n",
    "        title='Year',\n",
    "        showgrid=False,\n",
    "        zeroline=True\n",
    "    ),\n",
    "    yaxis=YAxis(\n",
    "        title='Mid-year Population',\n",
    "        showline=False\n",
    "    )\n",
    ")\n",
    "fig = Figure(data=D, layout=L)\n",
    "py.iplot(fig, filename='hfa/tmp')"
   ]
  },
  {
   "cell_type": "markdown",
   "metadata": {},
   "source": [
    "# Graphing Function"
   ]
  },
  {
   "cell_type": "code",
   "execution_count": null,
   "metadata": {
    "collapsed": true
   },
   "outputs": [],
   "source": [
    "def plot_trend(country, indicator, title='', figsize=(10, 6)):\n",
    "    data = HFA.ix[(HFA.indicator_id==indicator) & (HFA.country == country), :]\n",
    "    data.plot(x='year', y='value', title=title, legend=False, figsize=figsize)"
   ]
  },
  {
   "cell_type": "markdown",
   "metadata": {},
   "source": [
    "## Graphs"
   ]
  },
  {
   "cell_type": "code",
   "execution_count": null,
   "metadata": {
    "collapsed": false
   },
   "outputs": [],
   "source": [
    "find_indicators(['circ', '0-64', ' male'])"
   ]
  },
  {
   "cell_type": "code",
   "execution_count": null,
   "metadata": {
    "collapsed": false
   },
   "outputs": [],
   "source": [
    "country = 'Russian Federation'\n",
    "indicator = 1311\n",
    "title='{}\\nStandardised Circulatory Mortality, 0-64 years, per 100,000, Male'.format(country)\n",
    "\n",
    "plot_trend(country, indicator, title)"
   ]
  },
  {
   "cell_type": "code",
   "execution_count": null,
   "metadata": {
    "collapsed": false
   },
   "outputs": [],
   "source": [
    "country = 'Republic of Moldova'\n",
    "indicator = 1311\n",
    "title='{}\\nStandardised Circulatory Mortality, 0-64 years, per 100,000, Male'.format(country)\n",
    "\n",
    "plot_trend(country, indicator, title)"
   ]
  },
  {
   "cell_type": "code",
   "execution_count": null,
   "metadata": {
    "collapsed": false
   },
   "outputs": [],
   "source": [
    "country = 'Kazakhstan'\n",
    "indicator = 1311\n",
    "title='{}\\nStandardised Circulatory Mortality, 0-64 years, per 100,000, Male'.format(country)\n",
    "\n",
    "plot_trend(country, indicator, title)"
   ]
  },
  {
   "cell_type": "markdown",
   "metadata": {},
   "source": [
    "## GDP"
   ]
  },
  {
   "cell_type": "code",
   "execution_count": null,
   "metadata": {
    "collapsed": false
   },
   "outputs": [],
   "source": [
    "find_indicators(['GDP'])"
   ]
  },
  {
   "cell_type": "code",
   "execution_count": null,
   "metadata": {
    "collapsed": false
   },
   "outputs": [],
   "source": [
    "countries = ['Russian Federation', 'Republic of Moldova', 'Kazakhstan']\n",
    "indicator = 260\n",
    "\n",
    "\n",
    "for country in countries:\n",
    "    title='{}\\nGross domestic product (GDP), US$ per capita'.format(country)\n",
    "    plot_trend(country, indicator, title, figsize=(10,2))"
   ]
  }
 ],
 "metadata": {
  "kernelspec": {
   "display_name": "Python 2",
   "language": "python",
   "name": "python2"
  },
  "language_info": {
   "codemirror_mode": {
    "name": "ipython",
    "version": 2
   },
   "file_extension": ".py",
   "mimetype": "text/x-python",
   "name": "python",
   "nbconvert_exporter": "python",
   "pygments_lexer": "ipython2",
   "version": "2.7.10"
  }
 },
 "nbformat": 4,
 "nbformat_minor": 0
}
