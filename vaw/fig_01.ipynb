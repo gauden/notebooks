{
 "cells": [
  {
   "cell_type": "code",
   "execution_count": 1,
   "metadata": {
    "collapsed": true
   },
   "outputs": [],
   "source": [
    "from __future__ import unicode_literals, print_function, division"
   ]
  },
  {
   "cell_type": "code",
   "execution_count": 2,
   "metadata": {
    "collapsed": true
   },
   "outputs": [],
   "source": [
    "import os"
   ]
  },
  {
   "cell_type": "code",
   "execution_count": 3,
   "metadata": {
    "collapsed": false
   },
   "outputs": [
    {
     "name": "stderr",
     "output_type": "stream",
     "text": [
      "/Users/gauden/anaconda/lib/python2.7/site-packages/pytz/__init__.py:29: UserWarning: Module argparse was already imported from /Users/gauden/anaconda/lib/python2.7/argparse.pyc, but /Users/gauden/anaconda/lib/python2.7/site-packages is being added to sys.path\n",
      "  from pkg_resources import resource_stream\n"
     ]
    }
   ],
   "source": [
    "import pandas as pd\n",
    "\n",
    "import plotly.plotly as py\n",
    "from plotly.graph_objs import *\n",
    "import plotly.tools as tls"
   ]
  },
  {
   "cell_type": "code",
   "execution_count": 4,
   "metadata": {
    "collapsed": true
   },
   "outputs": [],
   "source": [
    "import plot_constants as pc"
   ]
  },
  {
   "cell_type": "code",
   "execution_count": 5,
   "metadata": {
    "collapsed": true
   },
   "outputs": [],
   "source": [
    "DATA_DIR = os.path.join('.', 'data')\n",
    "RAW_FILE = os.path.join(DATA_DIR, 'raw_data_20150701.xlsx')\n",
    "SHEET = 'Figure 2'"
   ]
  },
  {
   "cell_type": "code",
   "execution_count": 6,
   "metadata": {
    "collapsed": true
   },
   "outputs": [],
   "source": [
    "title = 'Beyond the Mortality Advantage'\n",
    "subtitle = 'Healthy life at birth and number of years spent in ill-health for women (2012)'\n",
    "source = dict(label='WHO Global Health Observatory', \n",
    "              link='http://apps.who.int/gho/data/node.main.3?lang=en')"
   ]
  },
  {
   "cell_type": "code",
   "execution_count": 7,
   "metadata": {
    "collapsed": false
   },
   "outputs": [
    {
     "data": {
      "text/html": [
       "<div style=\"max-height:1000px;max-width:1500px;overflow:auto;\">\n",
       "<table border=\"1\" class=\"dataframe\">\n",
       "  <thead>\n",
       "    <tr style=\"text-align: right;\">\n",
       "      <th></th>\n",
       "      <th>Country code</th>\n",
       "      <th>Country</th>\n",
       "      <th>Healthy life expectancy at birth</th>\n",
       "      <th>Years in ill health</th>\n",
       "    </tr>\n",
       "  </thead>\n",
       "  <tbody>\n",
       "    <tr>\n",
       "      <th>0</th>\n",
       "      <td> TKM</td>\n",
       "      <td> Turkmenistan</td>\n",
       "      <td> 59</td>\n",
       "      <td>  8</td>\n",
       "    </tr>\n",
       "    <tr>\n",
       "      <th>1</th>\n",
       "      <td> TJK</td>\n",
       "      <td>   Tajikistan</td>\n",
       "      <td> 60</td>\n",
       "      <td>  9</td>\n",
       "    </tr>\n",
       "    <tr>\n",
       "      <th>2</th>\n",
       "      <td> UZB</td>\n",
       "      <td>   Uzbekistan</td>\n",
       "      <td> 62</td>\n",
       "      <td> 10</td>\n",
       "    </tr>\n",
       "    <tr>\n",
       "      <th>3</th>\n",
       "      <td> KGZ</td>\n",
       "      <td>   Kyrgyzstan</td>\n",
       "      <td> 63</td>\n",
       "      <td> 10</td>\n",
       "    </tr>\n",
       "    <tr>\n",
       "      <th>4</th>\n",
       "      <td> KAZ</td>\n",
       "      <td>   Kazakhstan</td>\n",
       "      <td> 64</td>\n",
       "      <td>  8</td>\n",
       "    </tr>\n",
       "  </tbody>\n",
       "</table>\n",
       "</div>"
      ],
      "text/plain": [
       "  Country code       Country  Healthy life expectancy at birth  \\\n",
       "0          TKM  Turkmenistan                                59   \n",
       "1          TJK    Tajikistan                                60   \n",
       "2          UZB    Uzbekistan                                62   \n",
       "3          KGZ    Kyrgyzstan                                63   \n",
       "4          KAZ    Kazakhstan                                64   \n",
       "\n",
       "   Years in ill health  \n",
       "0                    8  \n",
       "1                    9  \n",
       "2                   10  \n",
       "3                   10  \n",
       "4                    8  "
      ]
     },
     "execution_count": 7,
     "metadata": {},
     "output_type": "execute_result"
    }
   ],
   "source": [
    "DF = pd.read_excel(RAW_FILE, sheetname=SHEET, parse_cols='A,D:F', skiprows=4, skip_footer=18)\n",
    "DF.head()"
   ]
  },
  {
   "cell_type": "code",
   "execution_count": 8,
   "metadata": {
    "collapsed": false,
    "scrolled": false
   },
   "outputs": [
    {
     "data": {
      "text/html": [
       "<iframe id=\"igraph\" scrolling=\"no\" style=\"border:none;\"seamless=\"seamless\" src=\"https://plot.ly/~gauden/118.embed\" height=\"1000\" width=\"100%\"></iframe>"
      ],
      "text/plain": [
       "<plotly.tools.PlotlyDisplay object>"
      ]
     },
     "execution_count": 8,
     "metadata": {},
     "output_type": "execute_result"
    }
   ],
   "source": [
    "plot_height = pc.PLOT_HEIGHT\n",
    "plot_width = pc.PLOT_WIDTH / 4 * 5\n",
    "filename = 'vaw/fig_01'\n",
    "\n",
    "hle = Bar(\n",
    "    y=DF.Country,\n",
    "    x=DF['Healthy life expectancy at birth'],\n",
    "    name='Healthy life expectancy at birth',\n",
    "    orientation = 'h',\n",
    "    marker = Marker(\n",
    "        color = pc.BREW_DIV_4,\n",
    "        line = Line(\n",
    "            color = pc.BREW_DIV_5,\n",
    "            width = 1,\n",
    "        )\n",
    "    )\n",
    ")\n",
    "\n",
    "ill = Bar(\n",
    "    y=DF.Country,\n",
    "    x=DF['Years in ill health'],\n",
    "    name='Years in ill health',\n",
    "    orientation = 'h',\n",
    "    marker = Marker(\n",
    "        color = pc.BREW_DIV_2,\n",
    "        line = Line(\n",
    "            color = pc.BREW_DIV_1,\n",
    "            width = 1,\n",
    "        )\n",
    "    )\n",
    ")\n",
    "\n",
    "data = Data([hle, ill])\n",
    "\n",
    "layout = Layout(\n",
    "    title = '<b>{}</b><br>{}'.format(title, subtitle),\n",
    "    autosize=False,\n",
    "    width=plot_width,\n",
    "    height=plot_height,\n",
    "    barmode='stack',\n",
    "    margin=Margin(\n",
    "        l=200,\n",
    "        r=120,\n",
    "        pad=0\n",
    "    ),\n",
    "    xaxis=XAxis(title='Number of Years'),\n",
    "    annotations=Annotations([\n",
    "        Annotation(\n",
    "            x=0.5,\n",
    "            y=-0.1,\n",
    "            xref='paper',\n",
    "            yref='paper',\n",
    "            text='Source: <a href=\"{}\">{}</a>'.format(source['link'],source['label']),\n",
    "            align='center',\n",
    "            showarrow=False\n",
    "        )\n",
    "    ]),\n",
    ")\n",
    "\n",
    "fig = Figure(data=data, layout=layout)\n",
    "py.iplot(fig, filename=filename, height=plot_height)"
   ]
  }
 ],
 "metadata": {
  "kernelspec": {
   "display_name": "Python 2",
   "language": "python",
   "name": "python2"
  },
  "language_info": {
   "codemirror_mode": {
    "name": "ipython",
    "version": 2
   },
   "file_extension": ".py",
   "mimetype": "text/x-python",
   "name": "python",
   "nbconvert_exporter": "python",
   "pygments_lexer": "ipython2",
   "version": "2.7.10"
  }
 },
 "nbformat": 4,
 "nbformat_minor": 0
}
