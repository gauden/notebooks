{
 "cells": [
  {
   "cell_type": "markdown",
   "metadata": {},
   "source": [
    "# Risk of Poverty and Social Exclusion"
   ]
  },
  {
   "cell_type": "markdown",
   "metadata": {},
   "source": [
    "## Setup"
   ]
  },
  {
   "cell_type": "code",
   "execution_count": 1,
   "metadata": {
    "collapsed": true
   },
   "outputs": [],
   "source": [
    "from __future__ import unicode_literals, print_function, division"
   ]
  },
  {
   "cell_type": "code",
   "execution_count": 2,
   "metadata": {
    "collapsed": true
   },
   "outputs": [],
   "source": [
    "import os"
   ]
  },
  {
   "cell_type": "code",
   "execution_count": 3,
   "metadata": {
    "collapsed": false
   },
   "outputs": [
    {
     "name": "stderr",
     "output_type": "stream",
     "text": [
      "/Users/gauden/anaconda/lib/python2.7/site-packages/pytz/__init__.py:29: UserWarning: Module argparse was already imported from /Users/gauden/anaconda/lib/python2.7/argparse.pyc, but /Users/gauden/anaconda/lib/python2.7/site-packages is being added to sys.path\n",
      "  from pkg_resources import resource_stream\n"
     ]
    }
   ],
   "source": [
    "import pandas as pd\n",
    "\n",
    "import plotly.plotly as py\n",
    "from plotly.graph_objs import *\n",
    "import plotly.tools as tls"
   ]
  },
  {
   "cell_type": "code",
   "execution_count": 4,
   "metadata": {
    "collapsed": true
   },
   "outputs": [],
   "source": [
    "import plot_constants as pc"
   ]
  },
  {
   "cell_type": "markdown",
   "metadata": {},
   "source": [
    "## Specific Configuration"
   ]
  },
  {
   "cell_type": "code",
   "execution_count": 5,
   "metadata": {
    "collapsed": true
   },
   "outputs": [],
   "source": [
    "DATA_DIR = os.path.join('.', 'data')\n",
    "RAW_FILE = os.path.join(DATA_DIR, 'raw_data_20150701.xlsx')"
   ]
  },
  {
   "cell_type": "code",
   "execution_count": 6,
   "metadata": {
    "collapsed": true
   },
   "outputs": [],
   "source": [
    "SHEET = 'Figure16a16b'\n",
    "\n",
    "PARSE_COLS = 'A,B'\n",
    "SKIPROWS = 10\n",
    "SKIP_FOOTER = 119-47+8\n",
    "\n",
    "title = 'Risk of Poverty and Social Exclusion'\n",
    "subtitle = '(Girls age less than 6 years in the EU, 2013)'\n",
    "source = dict(label='Eurostat', \n",
    "              link='NNN',\n",
    "              accessed='NNN')\n",
    "\n",
    "X_LABEL = 'Percentage of Girls below 6 years at Risk of Poverty and Social Exclusion'\n",
    "Y_LABEL = ''"
   ]
  },
  {
   "cell_type": "markdown",
   "metadata": {},
   "source": [
    "## Data Importation and Munging"
   ]
  },
  {
   "cell_type": "code",
   "execution_count": 7,
   "metadata": {
    "collapsed": false
   },
   "outputs": [
    {
     "data": {
      "text/html": [
       "<div style=\"max-height:1000px;max-width:1500px;overflow:auto;\">\n",
       "<table border=\"1\" class=\"dataframe\">\n",
       "  <thead>\n",
       "    <tr style=\"text-align: right;\">\n",
       "      <th></th>\n",
       "      <th>Country</th>\n",
       "      <th>Percentage</th>\n",
       "    </tr>\n",
       "  </thead>\n",
       "  <tbody>\n",
       "    <tr>\n",
       "      <th>0 </th>\n",
       "      <td>            Netherlands</td>\n",
       "      <td> 12.6</td>\n",
       "    </tr>\n",
       "    <tr>\n",
       "      <th>1 </th>\n",
       "      <td>                Finland</td>\n",
       "      <td> 13.6</td>\n",
       "    </tr>\n",
       "    <tr>\n",
       "      <th>2 </th>\n",
       "      <td>         Czech Republic</td>\n",
       "      <td> 14.7</td>\n",
       "    </tr>\n",
       "    <tr>\n",
       "      <th>3 </th>\n",
       "      <td>               Slovenia</td>\n",
       "      <td> 15.4</td>\n",
       "    </tr>\n",
       "    <tr>\n",
       "      <th>4 </th>\n",
       "      <td>                 Norway</td>\n",
       "      <td> 16.2</td>\n",
       "    </tr>\n",
       "    <tr>\n",
       "      <th>5 </th>\n",
       "      <td>            Switzerland</td>\n",
       "      <td> 16.8</td>\n",
       "    </tr>\n",
       "    <tr>\n",
       "      <th>6 </th>\n",
       "      <td>               Germany </td>\n",
       "      <td> 17.3</td>\n",
       "    </tr>\n",
       "    <tr>\n",
       "      <th>7 </th>\n",
       "      <td>                Iceland</td>\n",
       "      <td> 17.5</td>\n",
       "    </tr>\n",
       "    <tr>\n",
       "      <th>8 </th>\n",
       "      <td>                Estonia</td>\n",
       "      <td> 18.6</td>\n",
       "    </tr>\n",
       "    <tr>\n",
       "      <th>9 </th>\n",
       "      <td>                 Sweden</td>\n",
       "      <td> 19.2</td>\n",
       "    </tr>\n",
       "    <tr>\n",
       "      <th>10</th>\n",
       "      <td>                Denmark</td>\n",
       "      <td> 19.3</td>\n",
       "    </tr>\n",
       "    <tr>\n",
       "      <th>11</th>\n",
       "      <td>               Slovakia</td>\n",
       "      <td> 20.6</td>\n",
       "    </tr>\n",
       "    <tr>\n",
       "      <th>12</th>\n",
       "      <td>                Belgium</td>\n",
       "      <td> 20.7</td>\n",
       "    </tr>\n",
       "    <tr>\n",
       "      <th>13</th>\n",
       "      <td>                 France</td>\n",
       "      <td> 21.0</td>\n",
       "    </tr>\n",
       "    <tr>\n",
       "      <th>14</th>\n",
       "      <td>             Luxembourg</td>\n",
       "      <td> 24.4</td>\n",
       "    </tr>\n",
       "    <tr>\n",
       "      <th>15</th>\n",
       "      <td>                  EU15a</td>\n",
       "      <td> 24.6</td>\n",
       "    </tr>\n",
       "    <tr>\n",
       "      <th>16</th>\n",
       "      <td>                  Spain</td>\n",
       "      <td> 25.5</td>\n",
       "    </tr>\n",
       "    <tr>\n",
       "      <th>17</th>\n",
       "      <td>                 EU-27b</td>\n",
       "      <td> 25.7</td>\n",
       "    </tr>\n",
       "    <tr>\n",
       "      <th>18</th>\n",
       "      <td>                 Cyprus</td>\n",
       "      <td> 27.1</td>\n",
       "    </tr>\n",
       "    <tr>\n",
       "      <th>19</th>\n",
       "      <td>              Lithuania</td>\n",
       "      <td> 27.4</td>\n",
       "    </tr>\n",
       "    <tr>\n",
       "      <th>20</th>\n",
       "      <td>                  Malta</td>\n",
       "      <td> 28.0</td>\n",
       "    </tr>\n",
       "    <tr>\n",
       "      <th>21</th>\n",
       "      <td>                 Poland</td>\n",
       "      <td> 28.1</td>\n",
       "    </tr>\n",
       "    <tr>\n",
       "      <th>22</th>\n",
       "      <td>                 Latvia</td>\n",
       "      <td> 28.3</td>\n",
       "    </tr>\n",
       "    <tr>\n",
       "      <th>23</th>\n",
       "      <td>               Portugal</td>\n",
       "      <td> 28.8</td>\n",
       "    </tr>\n",
       "    <tr>\n",
       "      <th>24</th>\n",
       "      <td>                  Italy</td>\n",
       "      <td> 29.1</td>\n",
       "    </tr>\n",
       "    <tr>\n",
       "      <th>25</th>\n",
       "      <td>                Austria</td>\n",
       "      <td> 29.4</td>\n",
       "    </tr>\n",
       "    <tr>\n",
       "      <th>26</th>\n",
       "      <td>                Croatia</td>\n",
       "      <td> 30.0</td>\n",
       "    </tr>\n",
       "    <tr>\n",
       "      <th>27</th>\n",
       "      <td> New Member States (12)</td>\n",
       "      <td> 30.5</td>\n",
       "    </tr>\n",
       "    <tr>\n",
       "      <th>28</th>\n",
       "      <td>                 Greece</td>\n",
       "      <td> 32.9</td>\n",
       "    </tr>\n",
       "    <tr>\n",
       "      <th>29</th>\n",
       "      <td>                Ireland</td>\n",
       "      <td> 33.8</td>\n",
       "    </tr>\n",
       "    <tr>\n",
       "      <th>30</th>\n",
       "      <td>         United Kingdom</td>\n",
       "      <td> 33.9</td>\n",
       "    </tr>\n",
       "    <tr>\n",
       "      <th>31</th>\n",
       "      <td>                 Serbia</td>\n",
       "      <td> 38.9</td>\n",
       "    </tr>\n",
       "    <tr>\n",
       "      <th>32</th>\n",
       "      <td>                Romania</td>\n",
       "      <td> 40.3</td>\n",
       "    </tr>\n",
       "    <tr>\n",
       "      <th>33</th>\n",
       "      <td>                Hungary</td>\n",
       "      <td> 43.5</td>\n",
       "    </tr>\n",
       "    <tr>\n",
       "      <th>34</th>\n",
       "      <td>                 MKDc/d</td>\n",
       "      <td> 45.2</td>\n",
       "    </tr>\n",
       "    <tr>\n",
       "      <th>35</th>\n",
       "      <td>               Bulgaria</td>\n",
       "      <td> 54.4</td>\n",
       "    </tr>\n",
       "  </tbody>\n",
       "</table>\n",
       "</div>"
      ],
      "text/plain": [
       "                   Country  Percentage\n",
       "0              Netherlands        12.6\n",
       "1                  Finland        13.6\n",
       "2           Czech Republic        14.7\n",
       "3                 Slovenia        15.4\n",
       "4                   Norway        16.2\n",
       "5              Switzerland        16.8\n",
       "6                 Germany         17.3\n",
       "7                  Iceland        17.5\n",
       "8                  Estonia        18.6\n",
       "9                   Sweden        19.2\n",
       "10                 Denmark        19.3\n",
       "11                Slovakia        20.6\n",
       "12                 Belgium        20.7\n",
       "13                  France        21.0\n",
       "14              Luxembourg        24.4\n",
       "15                   EU15a        24.6\n",
       "16                   Spain        25.5\n",
       "17                  EU-27b        25.7\n",
       "18                  Cyprus        27.1\n",
       "19               Lithuania        27.4\n",
       "20                   Malta        28.0\n",
       "21                  Poland        28.1\n",
       "22                  Latvia        28.3\n",
       "23                Portugal        28.8\n",
       "24                   Italy        29.1\n",
       "25                 Austria        29.4\n",
       "26                 Croatia        30.0\n",
       "27  New Member States (12)        30.5\n",
       "28                  Greece        32.9\n",
       "29                 Ireland        33.8\n",
       "30          United Kingdom        33.9\n",
       "31                  Serbia        38.9\n",
       "32                 Romania        40.3\n",
       "33                 Hungary        43.5\n",
       "34                  MKDc/d        45.2\n",
       "35                Bulgaria        54.4"
      ]
     },
     "execution_count": 7,
     "metadata": {},
     "output_type": "execute_result"
    }
   ],
   "source": [
    "DF = pd.read_excel(RAW_FILE,\n",
    "                   sheetname=SHEET,\n",
    "                   parse_cols=PARSE_COLS,\n",
    "                   skiprows=SKIPROWS,\n",
    "                   skip_footer=SKIP_FOOTER)\n",
    "DF.columns = ['Country', 'Percentage']\n",
    "DF"
   ]
  },
  {
   "cell_type": "markdown",
   "metadata": {},
   "source": [
    "## Plotting"
   ]
  },
  {
   "cell_type": "code",
   "execution_count": 8,
   "metadata": {
    "collapsed": false
   },
   "outputs": [
    {
     "data": {
      "text/html": [
       "<iframe id=\"igraph\" scrolling=\"no\" style=\"border:none;\"seamless=\"seamless\" src=\"https://plot.ly/~gauden/232.embed\" height=\"1000\" width=\"100%\"></iframe>"
      ],
      "text/plain": [
       "<plotly.tools.PlotlyDisplay object>"
      ]
     },
     "execution_count": 8,
     "metadata": {},
     "output_type": "execute_result"
    }
   ],
   "source": [
    "plot_height = pc.PLOT_HEIGHT\n",
    "plot_width = pc.PLOT_WIDTH\n",
    "filename = 'vaw/fig_09'\n",
    "\n",
    "trace = Scatter(x=DF.Percentage,\n",
    "                y=DF.Country,\n",
    "                mode='markers',\n",
    "                name='Percentage',\n",
    "                marker=Marker(color=pc.FEMALE_FILL,\n",
    "                              line=Line(color=pc.FEMALE_LINE,\n",
    "                                        width=1,\n",
    "                                       ),\n",
    "                              symbol=pc.FEMALE_SYMBOL,\n",
    "                              size=12,)\n",
    "               )\n",
    "\n",
    "data = Data([trace])\n",
    "\n",
    "layout = Layout(\n",
    "    title = '<b>{}</b><br>{}'.format(title, subtitle),\n",
    "    autosize=False,\n",
    "    width=plot_width,\n",
    "    height=plot_height,\n",
    "    hovermode='y',\n",
    "    margin=Margin(\n",
    "        l=150,\n",
    "        r=120,\n",
    "        pad=0\n",
    "    ),\n",
    "    xaxis=XAxis(title=X_LABEL),\n",
    "    yaxis=YAxis(title=Y_LABEL),\n",
    "    annotations=Annotations([\n",
    "        Annotation(\n",
    "            x=0.5,\n",
    "            y=-0.1,\n",
    "            xref='paper',\n",
    "            yref='paper',\n",
    "            text='Source: <a href=\"{}\">{}</a>'.format(source['link'],source['label']),\n",
    "            align='center',\n",
    "            showarrow=False\n",
    "        )\n",
    "    ]),\n",
    ")\n",
    "\n",
    "fig = Figure(data=data, layout=layout)\n",
    "py.iplot(fig, filename=filename, height=plot_height)"
   ]
  }
 ],
 "metadata": {
  "kernelspec": {
   "display_name": "Python 2",
   "language": "python",
   "name": "python2"
  },
  "language_info": {
   "codemirror_mode": {
    "name": "ipython",
    "version": 2
   },
   "file_extension": ".py",
   "mimetype": "text/x-python",
   "name": "python",
   "nbconvert_exporter": "python",
   "pygments_lexer": "ipython2",
   "version": "2.7.10"
  }
 },
 "nbformat": 4,
 "nbformat_minor": 0
}
