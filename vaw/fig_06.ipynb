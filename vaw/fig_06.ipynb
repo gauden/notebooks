{
 "cells": [
  {
   "cell_type": "markdown",
   "metadata": {},
   "source": [
    "# Gender pay gap (%) in the EU, 2013"
   ]
  },
  {
   "cell_type": "markdown",
   "metadata": {},
   "source": [
    "## Setup"
   ]
  },
  {
   "cell_type": "code",
   "execution_count": 1,
   "metadata": {
    "collapsed": true
   },
   "outputs": [],
   "source": [
    "from __future__ import unicode_literals, print_function, division"
   ]
  },
  {
   "cell_type": "code",
   "execution_count": 2,
   "metadata": {
    "collapsed": true
   },
   "outputs": [],
   "source": [
    "import os"
   ]
  },
  {
   "cell_type": "code",
   "execution_count": 3,
   "metadata": {
    "collapsed": false
   },
   "outputs": [
    {
     "name": "stderr",
     "output_type": "stream",
     "text": [
      "/Users/gauden/anaconda/lib/python2.7/site-packages/pytz/__init__.py:29: UserWarning: Module argparse was already imported from /Users/gauden/anaconda/lib/python2.7/argparse.pyc, but /Users/gauden/anaconda/lib/python2.7/site-packages is being added to sys.path\n",
      "  from pkg_resources import resource_stream\n"
     ]
    }
   ],
   "source": [
    "import pandas as pd\n",
    "\n",
    "import plotly.plotly as py\n",
    "from plotly.graph_objs import *\n",
    "import plotly.tools as tls"
   ]
  },
  {
   "cell_type": "markdown",
   "metadata": {},
   "source": [
    "## Specific Configuration"
   ]
  },
  {
   "cell_type": "code",
   "execution_count": 4,
   "metadata": {
    "collapsed": true
   },
   "outputs": [],
   "source": [
    "DATA_DIR = os.path.join('.', 'data')\n",
    "RAW_FILE = os.path.join(DATA_DIR, 'raw_data_20150701.xlsx')"
   ]
  },
  {
   "cell_type": "code",
   "execution_count": 5,
   "metadata": {
    "collapsed": true
   },
   "outputs": [],
   "source": [
    "SHEET = 'Figure10'\n",
    "\n",
    "PARSE_COLS = 'A:C'\n",
    "SKIPROWS = 2\n",
    "SKIP_FOOTER = 42-33\n",
    "\n",
    "title = 'Gender pay gap in the EU'\n",
    "subtitle = '(Percentage, 2013. Data extracted 16 June 2015.)'\n",
    "source = dict(label='Eurostat. Gender pay gap in unadjusted form.', \n",
    "              link=('http://ec.europa.eu/eurostat/tgm/table.do?',\n",
    "                    'tab=table&init=1&plugin=1&language=en&pcode=tsdsc340'))\n",
    "\n",
    "X_LABEL = 'Gender pay gap (Percentage, 2013)'\n",
    "Y_LABEL = ''"
   ]
  },
  {
   "cell_type": "markdown",
   "metadata": {},
   "source": [
    "## Data Importation and Munging"
   ]
  },
  {
   "cell_type": "code",
   "execution_count": 6,
   "metadata": {
    "collapsed": false
   },
   "outputs": [
    {
     "data": {
      "text/html": [
       "<div style=\"max-height:1000px;max-width:1500px;overflow:auto;\">\n",
       "<table border=\"1\" class=\"dataframe\">\n",
       "  <thead>\n",
       "    <tr style=\"text-align: right;\">\n",
       "      <th></th>\n",
       "      <th>country</th>\n",
       "      <th>2013</th>\n",
       "      <th>note</th>\n",
       "    </tr>\n",
       "  </thead>\n",
       "  <tbody>\n",
       "    <tr>\n",
       "      <th>0 </th>\n",
       "      <td> EU (27 countries)</td>\n",
       "      <td> 16.4</td>\n",
       "      <td> (p)</td>\n",
       "    </tr>\n",
       "    <tr>\n",
       "      <th>1 </th>\n",
       "      <td>           Belgium</td>\n",
       "      <td>  9.8</td>\n",
       "      <td> NaN</td>\n",
       "    </tr>\n",
       "    <tr>\n",
       "      <th>2 </th>\n",
       "      <td>          Bulgaria</td>\n",
       "      <td> 13.5</td>\n",
       "      <td> NaN</td>\n",
       "    </tr>\n",
       "    <tr>\n",
       "      <th>3 </th>\n",
       "      <td>    Czech Republic</td>\n",
       "      <td> 22.1</td>\n",
       "      <td> NaN</td>\n",
       "    </tr>\n",
       "    <tr>\n",
       "      <th>4 </th>\n",
       "      <td>           Denmark</td>\n",
       "      <td> 16.4</td>\n",
       "      <td> NaN</td>\n",
       "    </tr>\n",
       "    <tr>\n",
       "      <th>5 </th>\n",
       "      <td>           Germany</td>\n",
       "      <td> 21.6</td>\n",
       "      <td> (p)</td>\n",
       "    </tr>\n",
       "    <tr>\n",
       "      <th>6 </th>\n",
       "      <td>           Estonia</td>\n",
       "      <td> 29.9</td>\n",
       "      <td> NaN</td>\n",
       "    </tr>\n",
       "    <tr>\n",
       "      <th>7 </th>\n",
       "      <td>             Spain</td>\n",
       "      <td> 19.3</td>\n",
       "      <td> (p)</td>\n",
       "    </tr>\n",
       "    <tr>\n",
       "      <th>8 </th>\n",
       "      <td>            France</td>\n",
       "      <td> 15.2</td>\n",
       "      <td> (p)</td>\n",
       "    </tr>\n",
       "    <tr>\n",
       "      <th>9 </th>\n",
       "      <td>           Croatia</td>\n",
       "      <td>  7.4</td>\n",
       "      <td> (p)</td>\n",
       "    </tr>\n",
       "    <tr>\n",
       "      <th>10</th>\n",
       "      <td>             Italy</td>\n",
       "      <td>  7.3</td>\n",
       "      <td> NaN</td>\n",
       "    </tr>\n",
       "    <tr>\n",
       "      <th>11</th>\n",
       "      <td>            Cyprus</td>\n",
       "      <td> 15.8</td>\n",
       "      <td> NaN</td>\n",
       "    </tr>\n",
       "    <tr>\n",
       "      <th>12</th>\n",
       "      <td>            Latvia</td>\n",
       "      <td> 14.4</td>\n",
       "      <td> NaN</td>\n",
       "    </tr>\n",
       "    <tr>\n",
       "      <th>13</th>\n",
       "      <td>         Lithuania</td>\n",
       "      <td> 13.3</td>\n",
       "      <td> NaN</td>\n",
       "    </tr>\n",
       "    <tr>\n",
       "      <th>14</th>\n",
       "      <td>        Luxembourg</td>\n",
       "      <td>  8.6</td>\n",
       "      <td> (p)</td>\n",
       "    </tr>\n",
       "    <tr>\n",
       "      <th>15</th>\n",
       "      <td>           Hungary</td>\n",
       "      <td> 18.4</td>\n",
       "      <td> NaN</td>\n",
       "    </tr>\n",
       "    <tr>\n",
       "      <th>16</th>\n",
       "      <td>             Malta</td>\n",
       "      <td>  5.1</td>\n",
       "      <td> NaN</td>\n",
       "    </tr>\n",
       "    <tr>\n",
       "      <th>17</th>\n",
       "      <td>       Netherlands</td>\n",
       "      <td> 16.0</td>\n",
       "      <td> NaN</td>\n",
       "    </tr>\n",
       "    <tr>\n",
       "      <th>18</th>\n",
       "      <td>           Austria</td>\n",
       "      <td> 23.0</td>\n",
       "      <td> NaN</td>\n",
       "    </tr>\n",
       "    <tr>\n",
       "      <th>19</th>\n",
       "      <td>            Poland</td>\n",
       "      <td>  6.4</td>\n",
       "      <td> (p)</td>\n",
       "    </tr>\n",
       "    <tr>\n",
       "      <th>20</th>\n",
       "      <td>          Portugal</td>\n",
       "      <td> 13.0</td>\n",
       "      <td> NaN</td>\n",
       "    </tr>\n",
       "    <tr>\n",
       "      <th>21</th>\n",
       "      <td>           Romania</td>\n",
       "      <td>  9.1</td>\n",
       "      <td> (e)</td>\n",
       "    </tr>\n",
       "    <tr>\n",
       "      <th>22</th>\n",
       "      <td>          Slovenia</td>\n",
       "      <td>  3.2</td>\n",
       "      <td> NaN</td>\n",
       "    </tr>\n",
       "    <tr>\n",
       "      <th>23</th>\n",
       "      <td>          Slovakia</td>\n",
       "      <td> 19.8</td>\n",
       "      <td> NaN</td>\n",
       "    </tr>\n",
       "    <tr>\n",
       "      <th>24</th>\n",
       "      <td>           Finland</td>\n",
       "      <td> 18.7</td>\n",
       "      <td> (p)</td>\n",
       "    </tr>\n",
       "    <tr>\n",
       "      <th>25</th>\n",
       "      <td>            Sweden</td>\n",
       "      <td> 15.2</td>\n",
       "      <td> NaN</td>\n",
       "    </tr>\n",
       "    <tr>\n",
       "      <th>26</th>\n",
       "      <td>    United Kingdom</td>\n",
       "      <td> 19.7</td>\n",
       "      <td> NaN</td>\n",
       "    </tr>\n",
       "    <tr>\n",
       "      <th>27</th>\n",
       "      <td>           Iceland</td>\n",
       "      <td> 20.5</td>\n",
       "      <td> NaN</td>\n",
       "    </tr>\n",
       "    <tr>\n",
       "      <th>28</th>\n",
       "      <td>            Norway</td>\n",
       "      <td> 16.0</td>\n",
       "      <td> NaN</td>\n",
       "    </tr>\n",
       "    <tr>\n",
       "      <th>29</th>\n",
       "      <td>       Switzerland</td>\n",
       "      <td> 19.3</td>\n",
       "      <td> NaN</td>\n",
       "    </tr>\n",
       "  </tbody>\n",
       "</table>\n",
       "</div>"
      ],
      "text/plain": [
       "              country  2013 note\n",
       "0   EU (27 countries)  16.4  (p)\n",
       "1             Belgium   9.8  NaN\n",
       "2            Bulgaria  13.5  NaN\n",
       "3      Czech Republic  22.1  NaN\n",
       "4             Denmark  16.4  NaN\n",
       "5             Germany  21.6  (p)\n",
       "6             Estonia  29.9  NaN\n",
       "7               Spain  19.3  (p)\n",
       "8              France  15.2  (p)\n",
       "9             Croatia   7.4  (p)\n",
       "10              Italy   7.3  NaN\n",
       "11             Cyprus  15.8  NaN\n",
       "12             Latvia  14.4  NaN\n",
       "13          Lithuania  13.3  NaN\n",
       "14         Luxembourg   8.6  (p)\n",
       "15            Hungary  18.4  NaN\n",
       "16              Malta   5.1  NaN\n",
       "17        Netherlands  16.0  NaN\n",
       "18            Austria  23.0  NaN\n",
       "19             Poland   6.4  (p)\n",
       "20           Portugal  13.0  NaN\n",
       "21            Romania   9.1  (e)\n",
       "22           Slovenia   3.2  NaN\n",
       "23           Slovakia  19.8  NaN\n",
       "24            Finland  18.7  (p)\n",
       "25             Sweden  15.2  NaN\n",
       "26     United Kingdom  19.7  NaN\n",
       "27            Iceland  20.5  NaN\n",
       "28             Norway  16.0  NaN\n",
       "29        Switzerland  19.3  NaN"
      ]
     },
     "execution_count": 6,
     "metadata": {},
     "output_type": "execute_result"
    }
   ],
   "source": [
    "DF = pd.read_excel(RAW_FILE,\n",
    "                   sheetname=SHEET,\n",
    "                   parse_cols=PARSE_COLS,\n",
    "                   skiprows=SKIPROWS,\n",
    "                   skip_footer=SKIP_FOOTER)\n",
    "DF.columns = ['country', '2013', 'note']\n",
    "DF"
   ]
  },
  {
   "cell_type": "markdown",
   "metadata": {},
   "source": [
    "### Notes\n",
    "\n",
    "p=provisional  \n",
    "d=definition differs (see metadata)  \n",
    "e=estimated \n",
    "\n",
    "This represents the difference between average gross hourly earnings of male paid employees and female paid employees as a percentage of gross hourly earnings of male paid employees.  The population consists of all paid employees in enterprises with 10 employees or more.  The data for the following countries is provisional - EU-27, Germancy, Spain, France, Croatia, Luxembourg, Poland, and Finland.  The data for Romania is estimated. Source: Eurostat. Gender pay gap in unadjusted form [web site]., 2015 (http://ec.europa.eu/eurostat/tgm/graph.do?pcode=tsdsc340&language=en, accessed 16 June 2015)."
   ]
  },
  {
   "cell_type": "markdown",
   "metadata": {},
   "source": [
    "## Plotting"
   ]
  },
  {
   "cell_type": "code",
   "execution_count": null,
   "metadata": {
    "collapsed": true
   },
   "outputs": [],
   "source": []
  }
 ],
 "metadata": {
  "kernelspec": {
   "display_name": "Python 2",
   "language": "python",
   "name": "python2"
  },
  "language_info": {
   "codemirror_mode": {
    "name": "ipython",
    "version": 2
   },
   "file_extension": ".py",
   "mimetype": "text/x-python",
   "name": "python",
   "nbconvert_exporter": "python",
   "pygments_lexer": "ipython2",
   "version": "2.7.10"
  }
 },
 "nbformat": 4,
 "nbformat_minor": 0
}
