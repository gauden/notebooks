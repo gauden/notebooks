{
 "cells": [
  {
   "cell_type": "markdown",
   "metadata": {},
   "source": [
    "# Unmet needs for family planning, total, percentage (last year available) "
   ]
  },
  {
   "cell_type": "markdown",
   "metadata": {},
   "source": [
    "## Setup"
   ]
  },
  {
   "cell_type": "code",
   "execution_count": 1,
   "metadata": {
    "collapsed": true
   },
   "outputs": [],
   "source": [
    "from __future__ import unicode_literals, print_function, division"
   ]
  },
  {
   "cell_type": "code",
   "execution_count": 2,
   "metadata": {
    "collapsed": true
   },
   "outputs": [],
   "source": [
    "import os"
   ]
  },
  {
   "cell_type": "code",
   "execution_count": 3,
   "metadata": {
    "collapsed": false
   },
   "outputs": [
    {
     "name": "stderr",
     "output_type": "stream",
     "text": [
      "/Users/gauden/anaconda/lib/python2.7/site-packages/pytz/__init__.py:29: UserWarning: Module argparse was already imported from /Users/gauden/anaconda/lib/python2.7/argparse.pyc, but /Users/gauden/anaconda/lib/python2.7/site-packages is being added to sys.path\n",
      "  from pkg_resources import resource_stream\n"
     ]
    }
   ],
   "source": [
    "import numpy as np\n",
    "import pandas as pd\n",
    "\n",
    "import plotly.plotly as py\n",
    "from plotly.graph_objs import *\n",
    "import plotly.tools as tls"
   ]
  },
  {
   "cell_type": "code",
   "execution_count": 4,
   "metadata": {
    "collapsed": true
   },
   "outputs": [],
   "source": [
    "import plot_constants as pc"
   ]
  },
  {
   "cell_type": "markdown",
   "metadata": {},
   "source": [
    "## Specific Configuration"
   ]
  },
  {
   "cell_type": "code",
   "execution_count": 5,
   "metadata": {
    "collapsed": true
   },
   "outputs": [],
   "source": [
    "DATA_DIR = os.path.join('.', 'data')\n",
    "RAW_FILE = os.path.join(DATA_DIR, 'raw_data_20150701.xlsx')"
   ]
  },
  {
   "cell_type": "code",
   "execution_count": 6,
   "metadata": {
    "collapsed": true
   },
   "outputs": [],
   "source": [
    "SHEET = 'Figure27c'\n",
    "\n",
    "PARSE_COLS = 'A,B'\n",
    "SKIPROWS = 3\n",
    "SKIP_FOOTER = 38-33+3\n",
    "\n",
    "title = 'Unmet Needs for Family Planning'\n",
    "subtitle = '(Total, percentage, last year available)'\n",
    "source = dict(label='United Nations Statistics Division', \n",
    "              link='http://mdgs.un.org/unsd/mdg/Data.aspx',\n",
    "              accessed='28 March 2015')\n",
    "\n",
    "X_LABEL = 'Percentage (%)'\n",
    "Y_LABEL = ''"
   ]
  },
  {
   "cell_type": "markdown",
   "metadata": {},
   "source": [
    "## Data Importation and Munging"
   ]
  },
  {
   "cell_type": "code",
   "execution_count": 7,
   "metadata": {
    "collapsed": false
   },
   "outputs": [
    {
     "data": {
      "text/html": [
       "<div style=\"max-height:1000px;max-width:1500px;overflow:auto;\">\n",
       "<table border=\"1\" class=\"dataframe\">\n",
       "  <thead>\n",
       "    <tr style=\"text-align: right;\">\n",
       "      <th></th>\n",
       "      <th>country</th>\n",
       "      <th>percentage</th>\n",
       "    </tr>\n",
       "  </thead>\n",
       "  <tbody>\n",
       "    <tr>\n",
       "      <th>0 </th>\n",
       "      <td>                 France</td>\n",
       "      <td>  1.7</td>\n",
       "    </tr>\n",
       "    <tr>\n",
       "      <th>1 </th>\n",
       "      <td>                Belgium</td>\n",
       "      <td>  3.4</td>\n",
       "    </tr>\n",
       "    <tr>\n",
       "      <th>2 </th>\n",
       "      <td>         Czech Republic</td>\n",
       "      <td>  4.3</td>\n",
       "    </tr>\n",
       "    <tr>\n",
       "      <th>3 </th>\n",
       "      <td>                Ukraine</td>\n",
       "      <td>  4.9</td>\n",
       "    </tr>\n",
       "    <tr>\n",
       "      <th>4 </th>\n",
       "      <td>                 Turkey</td>\n",
       "      <td>  6.2</td>\n",
       "    </tr>\n",
       "    <tr>\n",
       "      <th>5 </th>\n",
       "      <td>                 Serbia</td>\n",
       "      <td>  6.6</td>\n",
       "    </tr>\n",
       "    <tr>\n",
       "      <th>6 </th>\n",
       "      <td>                Belarus</td>\n",
       "      <td>  7.0</td>\n",
       "    </tr>\n",
       "    <tr>\n",
       "      <th>7 </th>\n",
       "      <td>                Hungary</td>\n",
       "      <td>  7.0</td>\n",
       "    </tr>\n",
       "    <tr>\n",
       "      <th>8 </th>\n",
       "      <td>     Russian Federation</td>\n",
       "      <td>  8.0</td>\n",
       "    </tr>\n",
       "    <tr>\n",
       "      <th>9 </th>\n",
       "      <td> Bosnia and Herzegovina</td>\n",
       "      <td>  9.0</td>\n",
       "    </tr>\n",
       "    <tr>\n",
       "      <th>10</th>\n",
       "      <td>               Slovenia</td>\n",
       "      <td>  9.2</td>\n",
       "    </tr>\n",
       "    <tr>\n",
       "      <th>11</th>\n",
       "      <td>    Republic of Moldova</td>\n",
       "      <td> 11.4</td>\n",
       "    </tr>\n",
       "    <tr>\n",
       "      <th>12</th>\n",
       "      <td>             Kazakhstan</td>\n",
       "      <td> 11.6</td>\n",
       "    </tr>\n",
       "    <tr>\n",
       "      <th>13</th>\n",
       "      <td>                  Italy</td>\n",
       "      <td> 11.8</td>\n",
       "    </tr>\n",
       "    <tr>\n",
       "      <th>14</th>\n",
       "      <td>                  Spain</td>\n",
       "      <td> 11.8</td>\n",
       "    </tr>\n",
       "    <tr>\n",
       "      <th>15</th>\n",
       "      <td>                Romania</td>\n",
       "      <td> 11.9</td>\n",
       "    </tr>\n",
       "    <tr>\n",
       "      <th>16</th>\n",
       "      <td>                Georgia</td>\n",
       "      <td> 12.3</td>\n",
       "    </tr>\n",
       "    <tr>\n",
       "      <th>17</th>\n",
       "      <td>                Albania</td>\n",
       "      <td> 12.9</td>\n",
       "    </tr>\n",
       "    <tr>\n",
       "      <th>18</th>\n",
       "      <td>           Turkmenistan</td>\n",
       "      <td> 13.1</td>\n",
       "    </tr>\n",
       "    <tr>\n",
       "      <th>19</th>\n",
       "      <td>                Armenia</td>\n",
       "      <td> 13.5</td>\n",
       "    </tr>\n",
       "    <tr>\n",
       "      <th>20</th>\n",
       "      <td>             Uzbekistan</td>\n",
       "      <td> 13.7</td>\n",
       "    </tr>\n",
       "    <tr>\n",
       "      <th>21</th>\n",
       "      <td>             Azerbaijan</td>\n",
       "      <td> 15.4</td>\n",
       "    </tr>\n",
       "    <tr>\n",
       "      <th>23</th>\n",
       "      <td>                 Latvia</td>\n",
       "      <td> 16.8</td>\n",
       "    </tr>\n",
       "    <tr>\n",
       "      <th>24</th>\n",
       "      <td>                   MKDa</td>\n",
       "      <td> 17.2</td>\n",
       "    </tr>\n",
       "    <tr>\n",
       "      <th>25</th>\n",
       "      <td>             Kyrgyzstan</td>\n",
       "      <td> 18.0</td>\n",
       "    </tr>\n",
       "    <tr>\n",
       "      <th>26</th>\n",
       "      <td>              Lithuania</td>\n",
       "      <td> 18.0</td>\n",
       "    </tr>\n",
       "    <tr>\n",
       "      <th>27</th>\n",
       "      <td>             Tajikistan</td>\n",
       "      <td> 22.9</td>\n",
       "    </tr>\n",
       "    <tr>\n",
       "      <th>28</th>\n",
       "      <td>               Bulgaria</td>\n",
       "      <td> 29.7</td>\n",
       "    </tr>\n",
       "  </tbody>\n",
       "</table>\n",
       "</div>"
      ],
      "text/plain": [
       "                   country  percentage\n",
       "0                   France         1.7\n",
       "1                  Belgium         3.4\n",
       "2           Czech Republic         4.3\n",
       "3                  Ukraine         4.9\n",
       "4                   Turkey         6.2\n",
       "5                   Serbia         6.6\n",
       "6                  Belarus         7.0\n",
       "7                  Hungary         7.0\n",
       "8       Russian Federation         8.0\n",
       "9   Bosnia and Herzegovina         9.0\n",
       "10                Slovenia         9.2\n",
       "11     Republic of Moldova        11.4\n",
       "12              Kazakhstan        11.6\n",
       "13                   Italy        11.8\n",
       "14                   Spain        11.8\n",
       "15                 Romania        11.9\n",
       "16                 Georgia        12.3\n",
       "17                 Albania        12.9\n",
       "18            Turkmenistan        13.1\n",
       "19                 Armenia        13.5\n",
       "20              Uzbekistan        13.7\n",
       "21              Azerbaijan        15.4\n",
       "23                  Latvia        16.8\n",
       "24                    MKDa        17.2\n",
       "25              Kyrgyzstan        18.0\n",
       "26               Lithuania        18.0\n",
       "27              Tajikistan        22.9\n",
       "28                Bulgaria        29.7"
      ]
     },
     "execution_count": 7,
     "metadata": {},
     "output_type": "execute_result"
    }
   ],
   "source": [
    "DF = pd.read_excel(RAW_FILE,\n",
    "                   sheetname=SHEET,\n",
    "                   parse_cols=PARSE_COLS,\n",
    "                   skiprows=SKIPROWS,\n",
    "                   skip_footer=SKIP_FOOTER)\n",
    "DF.columns = ['country', 'percentage']\n",
    "DF = DF[DF.country != 'State of Palestine']  # only Euro region\n",
    "DF"
   ]
  },
  {
   "cell_type": "markdown",
   "metadata": {},
   "source": [
    "## Plotting"
   ]
  },
  {
   "cell_type": "code",
   "execution_count": 8,
   "metadata": {
    "collapsed": false
   },
   "outputs": [
    {
     "data": {
      "text/html": [
       "<iframe id=\"igraph\" scrolling=\"no\" style=\"border:none;\"seamless=\"seamless\" src=\"https://plot.ly/~gauden/243.embed\" height=\"1000\" width=\"100%\"></iframe>"
      ],
      "text/plain": [
       "<plotly.tools.PlotlyDisplay object>"
      ]
     },
     "execution_count": 8,
     "metadata": {},
     "output_type": "execute_result"
    }
   ],
   "source": [
    "plot_height = pc.PLOT_HEIGHT\n",
    "plot_width = pc.PLOT_WIDTH\n",
    "filename = 'vaw/fig_14'\n",
    "\n",
    "trace = Scatter(x=DF.percentage,\n",
    "                y=DF.country,\n",
    "                mode='markers',\n",
    "                name='Percentage',\n",
    "                marker=Marker(color=pc.NEUTRAL_FILL,\n",
    "                              line=Line(color=pc.NEUTRAL_LINE,\n",
    "                                        width=1,\n",
    "                                       ),\n",
    "                              symbol=pc.NEUTRAL_SYMBOL,\n",
    "                              size=12,)\n",
    "               )\n",
    "\n",
    "data = Data([trace])\n",
    "\n",
    "layout = Layout(\n",
    "    title = '<b>{}</b><br>{}'.format(title, subtitle),\n",
    "    autosize=False,\n",
    "    width=plot_width,\n",
    "    height=plot_height,\n",
    "    hovermode='y',\n",
    "    margin=Margin(\n",
    "        l=150,\n",
    "        r=120,\n",
    "        pad=0\n",
    "    ),\n",
    "    xaxis=XAxis(dict(zeroline=False), title=X_LABEL),\n",
    "    yaxis=YAxis(title=Y_LABEL),\n",
    "    annotations=Annotations([\n",
    "        Annotation(\n",
    "            x=0.5,\n",
    "            y=-0.1,\n",
    "            xref='paper',\n",
    "            yref='paper',\n",
    "            text='Source: <a href=\"{}\">{}</a>'.format(source['link'],source['label']),\n",
    "            align='center',\n",
    "            showarrow=False\n",
    "        )\n",
    "    ]),\n",
    ")\n",
    "\n",
    "fig = Figure(data=data, layout=layout)\n",
    "py.iplot(fig, filename=filename, height=plot_height)"
   ]
  }
 ],
 "metadata": {
  "kernelspec": {
   "display_name": "Python 2",
   "language": "python",
   "name": "python2"
  },
  "language_info": {
   "codemirror_mode": {
    "name": "ipython",
    "version": 2
   },
   "file_extension": ".py",
   "mimetype": "text/x-python",
   "name": "python",
   "nbconvert_exporter": "python",
   "pygments_lexer": "ipython2",
   "version": "2.7.10"
  }
 },
 "nbformat": 4,
 "nbformat_minor": 0
}
