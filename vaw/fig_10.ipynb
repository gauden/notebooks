{
 "cells": [
  {
   "cell_type": "markdown",
   "metadata": {},
   "source": [
    "# Prevalence of current smoked tobacco use among adolescents girls age 13-15 years in selected countries"
   ]
  },
  {
   "cell_type": "markdown",
   "metadata": {},
   "source": [
    "## Setup"
   ]
  },
  {
   "cell_type": "code",
   "execution_count": 1,
   "metadata": {
    "collapsed": true
   },
   "outputs": [],
   "source": [
    "from __future__ import unicode_literals, print_function, division"
   ]
  },
  {
   "cell_type": "code",
   "execution_count": 2,
   "metadata": {
    "collapsed": true
   },
   "outputs": [],
   "source": [
    "import os"
   ]
  },
  {
   "cell_type": "code",
   "execution_count": 3,
   "metadata": {
    "collapsed": false
   },
   "outputs": [
    {
     "name": "stderr",
     "output_type": "stream",
     "text": [
      "/Users/gauden/anaconda/lib/python2.7/site-packages/pytz/__init__.py:29: UserWarning: Module argparse was already imported from /Users/gauden/anaconda/lib/python2.7/argparse.pyc, but /Users/gauden/anaconda/lib/python2.7/site-packages is being added to sys.path\n",
      "  from pkg_resources import resource_stream\n"
     ]
    }
   ],
   "source": [
    "import pandas as pd\n",
    "\n",
    "import plotly.plotly as py\n",
    "from plotly.graph_objs import *\n",
    "import plotly.tools as tls"
   ]
  },
  {
   "cell_type": "code",
   "execution_count": 4,
   "metadata": {
    "collapsed": true
   },
   "outputs": [],
   "source": [
    "import plot_constants as pc"
   ]
  },
  {
   "cell_type": "markdown",
   "metadata": {},
   "source": [
    "## Specific Configuration"
   ]
  },
  {
   "cell_type": "code",
   "execution_count": 5,
   "metadata": {
    "collapsed": true
   },
   "outputs": [],
   "source": [
    "DATA_DIR = os.path.join('.', 'data')\n",
    "RAW_FILE = os.path.join(DATA_DIR, 'raw_data_20150701.xlsx')"
   ]
  },
  {
   "cell_type": "code",
   "execution_count": 6,
   "metadata": {
    "collapsed": true
   },
   "outputs": [],
   "source": [
    "SHEET = 'Figure19'\n",
    "\n",
    "PARSE_COLS = 'A:B'\n",
    "SKIPROWS = 4\n",
    "SKIP_FOOTER = 19-16\n",
    "\n",
    "title = 'Tobacco Smoking among Adolescent Girls'\n",
    "subtitle = '(Current tobacco smoking, girls age 13-15 years, selected countries)'\n",
    "source = dict(label='GYTS - Global Youth Tobacco Survey (2013 and 2014 surveys)', \n",
    "              link='NNN',\n",
    "              accessed='NNN')\n",
    "\n",
    "X_LABEL = 'Prevalence per NNN'\n",
    "Y_LABEL = ''"
   ]
  },
  {
   "cell_type": "markdown",
   "metadata": {},
   "source": [
    "## Data Importation and Munging"
   ]
  },
  {
   "cell_type": "code",
   "execution_count": 7,
   "metadata": {
    "collapsed": false
   },
   "outputs": [
    {
     "data": {
      "text/html": [
       "<div style=\"max-height:1000px;max-width:1500px;overflow:auto;\">\n",
       "<table border=\"1\" class=\"dataframe\">\n",
       "  <thead>\n",
       "    <tr style=\"text-align: right;\">\n",
       "      <th></th>\n",
       "      <th>Country</th>\n",
       "      <th>Prevalence</th>\n",
       "    </tr>\n",
       "  </thead>\n",
       "  <tbody>\n",
       "    <tr>\n",
       "      <th>0 </th>\n",
       "      <td>          Kyrgyzstan (2014)</td>\n",
       "      <td>  2.0</td>\n",
       "    </tr>\n",
       "    <tr>\n",
       "      <th>1 </th>\n",
       "      <td> Republic of Moldova (2013)</td>\n",
       "      <td>  3.8</td>\n",
       "    </tr>\n",
       "    <tr>\n",
       "      <th>2 </th>\n",
       "      <td>          Montenegro (2014)</td>\n",
       "      <td>  4.2</td>\n",
       "    </tr>\n",
       "    <tr>\n",
       "      <th>3 </th>\n",
       "      <td>             Georgia (2014)</td>\n",
       "      <td>  5.7</td>\n",
       "    </tr>\n",
       "    <tr>\n",
       "      <th>4 </th>\n",
       "      <td>             Romania (2013)</td>\n",
       "      <td> 10.1</td>\n",
       "    </tr>\n",
       "    <tr>\n",
       "      <th>5 </th>\n",
       "      <td>              Greece (2013)</td>\n",
       "      <td> 12.9</td>\n",
       "    </tr>\n",
       "    <tr>\n",
       "      <th>6 </th>\n",
       "      <td>              Serbia (2013)</td>\n",
       "      <td> 14.6</td>\n",
       "    </tr>\n",
       "    <tr>\n",
       "      <th>7 </th>\n",
       "      <td>          San Marino (2014)</td>\n",
       "      <td> 15.0</td>\n",
       "    </tr>\n",
       "    <tr>\n",
       "      <th>8 </th>\n",
       "      <td>              Latvia (2014)</td>\n",
       "      <td> 22.7</td>\n",
       "    </tr>\n",
       "    <tr>\n",
       "      <th>9 </th>\n",
       "      <td>           Lithuania (2014)</td>\n",
       "      <td> 24.1</td>\n",
       "    </tr>\n",
       "    <tr>\n",
       "      <th>10</th>\n",
       "      <td>               Italy (2014)</td>\n",
       "      <td> 26.3</td>\n",
       "    </tr>\n",
       "  </tbody>\n",
       "</table>\n",
       "</div>"
      ],
      "text/plain": [
       "                       Country  Prevalence\n",
       "0            Kyrgyzstan (2014)         2.0\n",
       "1   Republic of Moldova (2013)         3.8\n",
       "2            Montenegro (2014)         4.2\n",
       "3               Georgia (2014)         5.7\n",
       "4               Romania (2013)        10.1\n",
       "5                Greece (2013)        12.9\n",
       "6                Serbia (2013)        14.6\n",
       "7            San Marino (2014)        15.0\n",
       "8                Latvia (2014)        22.7\n",
       "9             Lithuania (2014)        24.1\n",
       "10                Italy (2014)        26.3"
      ]
     },
     "execution_count": 7,
     "metadata": {},
     "output_type": "execute_result"
    }
   ],
   "source": [
    "DF = pd.read_excel(RAW_FILE,\n",
    "                   sheetname=SHEET,\n",
    "                   parse_cols=PARSE_COLS,\n",
    "                   skiprows=SKIPROWS,\n",
    "                   skip_footer=SKIP_FOOTER)\n",
    "DF.columns = ['Country', 'Prevalence']\n",
    "DF.Country = ['{} ({})'.format(*item) for item in DF.Country.str.split('; ')]\n",
    "DF"
   ]
  },
  {
   "cell_type": "markdown",
   "metadata": {},
   "source": [
    "## Plotting"
   ]
  },
  {
   "cell_type": "code",
   "execution_count": 8,
   "metadata": {
    "collapsed": false
   },
   "outputs": [
    {
     "data": {
      "text/html": [
       "<iframe id=\"igraph\" scrolling=\"no\" style=\"border:none;\"seamless=\"seamless\" src=\"https://plot.ly/~gauden/234.embed\" height=\"600.0\" width=\"100%\"></iframe>"
      ],
      "text/plain": [
       "<plotly.tools.PlotlyDisplay object>"
      ]
     },
     "execution_count": 8,
     "metadata": {},
     "output_type": "execute_result"
    }
   ],
   "source": [
    "plot_height = pc.PLOT_HEIGHT * 0.6\n",
    "plot_width = pc.PLOT_WIDTH\n",
    "filename = 'vaw/fig_10'\n",
    "\n",
    "trace = Scatter(x=DF.Prevalence,\n",
    "                y=DF.Country,\n",
    "                mode='markers',\n",
    "                name='Prevalence',\n",
    "                marker=Marker(color=pc.NEUTRAL_FILL,\n",
    "                              line=Line(color=pc.NEUTRAL_LINE,\n",
    "                                        width=1,\n",
    "                                       ),\n",
    "                              symbol='circle',\n",
    "                              size=12,)\n",
    "               )\n",
    "\n",
    "data = Data([trace])\n",
    "\n",
    "layout = Layout(\n",
    "    title = '<b>{}</b><br>{}'.format(title, subtitle),\n",
    "    autosize=False,\n",
    "    width=plot_width,\n",
    "    height=plot_height,\n",
    "    hovermode='y',\n",
    "    margin=Margin(\n",
    "        l=180,\n",
    "        r=120,\n",
    "        pad=0\n",
    "    ),\n",
    "    xaxis=XAxis(dict(zeroline=False), title=X_LABEL, range=[0, DF.Prevalence.max() * 1.1]),\n",
    "    yaxis=YAxis(title=Y_LABEL),\n",
    "    annotations=Annotations([\n",
    "        Annotation(\n",
    "            x=-0.2,\n",
    "            y=-0.2,\n",
    "            xref='paper',\n",
    "            yref='paper',\n",
    "            text='Source: <a href=\"{}\">{}</a>'.format(source['link'],source['label']),\n",
    "            align='center',\n",
    "            showarrow=False\n",
    "        )\n",
    "    ]),\n",
    ")\n",
    "\n",
    "fig = Figure(data=data, layout=layout)\n",
    "py.iplot(fig, filename=filename, height=plot_height)"
   ]
  }
 ],
 "metadata": {
  "kernelspec": {
   "display_name": "Python 2",
   "language": "python",
   "name": "python2"
  },
  "language_info": {
   "codemirror_mode": {
    "name": "ipython",
    "version": 2
   },
   "file_extension": ".py",
   "mimetype": "text/x-python",
   "name": "python",
   "nbconvert_exporter": "python",
   "pygments_lexer": "ipython2",
   "version": "2.7.10"
  }
 },
 "nbformat": 4,
 "nbformat_minor": 0
}
