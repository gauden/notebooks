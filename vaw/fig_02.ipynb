{
 "cells": [
  {
   "cell_type": "markdown",
   "metadata": {},
   "source": [
    "# Female life expectancy at birth (2013) by estimated Gross National Income (GNI) PPP USD per capita (2011)"
   ]
  },
  {
   "cell_type": "markdown",
   "metadata": {},
   "source": [
    "## Setup"
   ]
  },
  {
   "cell_type": "code",
   "execution_count": 1,
   "metadata": {
    "collapsed": true
   },
   "outputs": [],
   "source": [
    "from __future__ import unicode_literals, print_function, division"
   ]
  },
  {
   "cell_type": "code",
   "execution_count": 2,
   "metadata": {
    "collapsed": true
   },
   "outputs": [],
   "source": [
    "import os"
   ]
  },
  {
   "cell_type": "code",
   "execution_count": 3,
   "metadata": {
    "collapsed": false
   },
   "outputs": [
    {
     "name": "stderr",
     "output_type": "stream",
     "text": [
      "/Users/gauden/anaconda/lib/python2.7/site-packages/pytz/__init__.py:29: UserWarning: Module argparse was already imported from /Users/gauden/anaconda/lib/python2.7/argparse.pyc, but /Users/gauden/anaconda/lib/python2.7/site-packages is being added to sys.path\n",
      "  from pkg_resources import resource_stream\n"
     ]
    }
   ],
   "source": [
    "import numpy as np\n",
    "import pandas as pd\n",
    "\n",
    "import plotly.plotly as py\n",
    "from plotly.graph_objs import *\n",
    "import plotly.tools as tls"
   ]
  },
  {
   "cell_type": "code",
   "execution_count": 4,
   "metadata": {
    "collapsed": true
   },
   "outputs": [],
   "source": [
    "import plot_constants as pc"
   ]
  },
  {
   "cell_type": "markdown",
   "metadata": {},
   "source": [
    "## Specific Configuration"
   ]
  },
  {
   "cell_type": "code",
   "execution_count": 5,
   "metadata": {
    "collapsed": true
   },
   "outputs": [],
   "source": [
    "DATA_DIR = os.path.join('.', 'data')\n",
    "RAW_FILE = os.path.join(DATA_DIR, 'raw_data_20150701.xlsx')"
   ]
  },
  {
   "cell_type": "code",
   "execution_count": 6,
   "metadata": {
    "collapsed": true
   },
   "outputs": [],
   "source": [
    "SHEET = 'Figure3'\n",
    "\n",
    "PARSE_COLS = 'A:C'\n",
    "SKIPROWS = 0\n",
    "SKIP_FOOTER = 107-48\n",
    "\n",
    "title = 'Female Life Expectancy by Gross National Income'\n",
    "subtitle = '(Female life expectancy at birth by estimated GNI PPP in USD per capita (2010))'\n",
    "source = dict(label='WHO/Europe Health For All Database (April 2014 update)', \n",
    "              link='http://www.euro.who.int/en/data-and-evidence/databases/european-health-for-all-database-hfa-db',\n",
    "              accessed='14 July 2015')\n",
    "\n",
    "X_LABEL = 'GNI per capita (USD, at PPP)'\n",
    "Y_LABEL = 'Female Life Expectancy (Years)'"
   ]
  },
  {
   "cell_type": "markdown",
   "metadata": {},
   "source": [
    "## Data Importation and Munging"
   ]
  },
  {
   "cell_type": "code",
   "execution_count": 7,
   "metadata": {
    "collapsed": false,
    "scrolled": false
   },
   "outputs": [
    {
     "data": {
      "text/html": [
       "<div style=\"max-height:1000px;max-width:1500px;overflow:auto;\">\n",
       "<table border=\"1\" class=\"dataframe\">\n",
       "  <thead>\n",
       "    <tr style=\"text-align: right;\">\n",
       "      <th></th>\n",
       "      <th>country</th>\n",
       "      <th>gni</th>\n",
       "      <th>life_expectancy</th>\n",
       "    </tr>\n",
       "  </thead>\n",
       "  <tbody>\n",
       "    <tr>\n",
       "      <th>3 </th>\n",
       "      <td>  Austria</td>\n",
       "      <td> 47060</td>\n",
       "      <td> 83.63</td>\n",
       "    </tr>\n",
       "    <tr>\n",
       "      <th>6 </th>\n",
       "      <td>  Belgium</td>\n",
       "      <td> 45840</td>\n",
       "      <td> 82.99</td>\n",
       "    </tr>\n",
       "    <tr>\n",
       "      <th>8 </th>\n",
       "      <td> Bulgaria</td>\n",
       "      <td>  6320</td>\n",
       "      <td> 77.42</td>\n",
       "    </tr>\n",
       "    <tr>\n",
       "      <th>9 </th>\n",
       "      <td>  Croatia</td>\n",
       "      <td> 13550</td>\n",
       "      <td> 80.01</td>\n",
       "    </tr>\n",
       "    <tr>\n",
       "      <th>10</th>\n",
       "      <td>   Cyprus</td>\n",
       "      <td> 28570</td>\n",
       "      <td> 84.46</td>\n",
       "    </tr>\n",
       "  </tbody>\n",
       "</table>\n",
       "</div>"
      ],
      "text/plain": [
       "     country    gni life_expectancy\n",
       "3    Austria  47060           83.63\n",
       "6    Belgium  45840           82.99\n",
       "8   Bulgaria   6320           77.42\n",
       "9    Croatia  13550           80.01\n",
       "10    Cyprus  28570           84.46"
      ]
     },
     "execution_count": 7,
     "metadata": {},
     "output_type": "execute_result"
    }
   ],
   "source": [
    "fyles = [('hfa_250.html', 'gni'), \n",
    "         ('hfa_1012.html', 'life_expectancy')]\n",
    "\n",
    "dfs = []\n",
    "for fyle, variable in fyles:\n",
    "    fn = os.path.join(DATA_DIR, fyle)\n",
    "    tables = pd.read_html(fn, skiprows=1, header=0)\n",
    "    df = tables[0]\n",
    "    df.columns = ['country', variable]\n",
    "    df = df.replace('...', np.nan)\n",
    "    df.country = df.country.str[4:]\n",
    "    df = df[0:53]\n",
    "    dfs.append(df)\n",
    "\n",
    "DF = pd.merge(*dfs)\n",
    "DF.dropna(inplace=True)\n",
    "DF = pc.clean_mkd(DF, 'country')\n",
    "DF.head()"
   ]
  },
  {
   "cell_type": "markdown",
   "metadata": {},
   "source": [
    "## Plotting"
   ]
  },
  {
   "cell_type": "code",
   "execution_count": 8,
   "metadata": {
    "collapsed": false,
    "scrolled": false
   },
   "outputs": [
    {
     "data": {
      "text/html": [
       "<iframe id=\"igraph\" scrolling=\"no\" style=\"border:none;\"seamless=\"seamless\" src=\"https://plot.ly/~gauden/354.embed\" height=\"1000\" width=\"100%\"></iframe>"
      ],
      "text/plain": [
       "<plotly.tools.PlotlyDisplay object>"
      ]
     },
     "execution_count": 8,
     "metadata": {},
     "output_type": "execute_result"
    }
   ],
   "source": [
    "plot_height = pc.PLOT_HEIGHT\n",
    "plot_width = pc.PLOT_WIDTH\n",
    "filename = 'vaw/fig_02'\n",
    "\n",
    "trace = Scatter(\n",
    "    x=DF['gni'],\n",
    "    y=DF['life_expectancy'],\n",
    "    mode='markers+text',\n",
    "    text=DF.country,\n",
    "    textposition='top center',\n",
    "    textfont=Font(\n",
    "        family='Arial',\n",
    "    ),\n",
    "    marker=Marker(\n",
    "        color= pc.NEUTRAL_FILL,\n",
    "        line=Line(color=pc.NEUTRAL_LINE, width=1),\n",
    "        symbol=pc.FEMALE_SYMBOL,\n",
    "        size=10,\n",
    "    )\n",
    ")\n",
    "\n",
    "data = Data([trace])\n",
    "\n",
    "layout = Layout(\n",
    "    title = '<b>{}</b><br>{}'.format(title, subtitle),\n",
    "    autosize=False,\n",
    "    width=1000,\n",
    "    height=plot_height,\n",
    "    hovermode='closest',\n",
    "    margin=Margin(\n",
    "        l=120,\n",
    "        r=120,\n",
    "        pad=0\n",
    "    ),\n",
    "    xaxis=XAxis(dict(zeroline=False), title=X_LABEL),\n",
    "    yaxis=YAxis(title=Y_LABEL),\n",
    "    annotations=Annotations([\n",
    "        Annotation(\n",
    "            x=0.5,\n",
    "            y=-0.1,\n",
    "            xref='paper',\n",
    "            yref='paper',\n",
    "            text='Source: <a href=\"{}\">{}</a>'.format(source['link'],source['label']),\n",
    "            align='center',\n",
    "            showarrow=False\n",
    "        )\n",
    "    ]),\n",
    ")\n",
    "\n",
    "fig = Figure(data=data, layout=layout)\n",
    "py.iplot(fig, filename=filename, height=plot_height)"
   ]
  },
  {
   "cell_type": "code",
   "execution_count": 9,
   "metadata": {
    "collapsed": false
   },
   "outputs": [
    {
     "name": "stdout",
     "output_type": "stream",
     "text": [
      "¶ The former Yugoslav Republic of Macedonia (MKD is an abbreviation of the ISO).\n"
     ]
    }
   ],
   "source": [
    "print(pc.check_mkd(DF, 'country'))"
   ]
  }
 ],
 "metadata": {
  "kernelspec": {
   "display_name": "Python 2",
   "language": "python",
   "name": "python2"
  },
  "language_info": {
   "codemirror_mode": {
    "name": "ipython",
    "version": 2
   },
   "file_extension": ".py",
   "mimetype": "text/x-python",
   "name": "python",
   "nbconvert_exporter": "python",
   "pygments_lexer": "ipython2",
   "version": "2.7.10"
  }
 },
 "nbformat": 4,
 "nbformat_minor": 0
}
