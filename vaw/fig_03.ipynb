{
 "cells": [
  {
   "cell_type": "markdown",
   "metadata": {},
   "source": [
    "# Mortality and disease burden (DALYs) in females by sub-region, age group and broad causes, 2010"
   ]
  },
  {
   "cell_type": "markdown",
   "metadata": {},
   "source": [
    "## Setup"
   ]
  },
  {
   "cell_type": "code",
   "execution_count": 1,
   "metadata": {
    "collapsed": true
   },
   "outputs": [],
   "source": [
    "from __future__ import unicode_literals, print_function, division"
   ]
  },
  {
   "cell_type": "code",
   "execution_count": null,
   "metadata": {
    "collapsed": true
   },
   "outputs": [],
   "source": [
    "import os"
   ]
  },
  {
   "cell_type": "code",
   "execution_count": null,
   "metadata": {
    "collapsed": false
   },
   "outputs": [],
   "source": [
    "import pandas as pd\n",
    "\n",
    "import plotly.plotly as py\n",
    "from plotly.graph_objs import *\n",
    "import plotly.tools as tls"
   ]
  },
  {
   "cell_type": "code",
   "execution_count": null,
   "metadata": {
    "collapsed": true
   },
   "outputs": [],
   "source": [
    "import plot_constants as pc"
   ]
  },
  {
   "cell_type": "markdown",
   "metadata": {},
   "source": [
    "## Specific Configuration"
   ]
  },
  {
   "cell_type": "code",
   "execution_count": null,
   "metadata": {
    "collapsed": true
   },
   "outputs": [],
   "source": [
    "DATA_DIR = os.path.join('.', 'data')\n",
    "RAW_FILE = os.path.join(DATA_DIR, 'raw_data_20150701.xlsx')\n",
    "SHEET = 'Figure4'"
   ]
  },
  {
   "cell_type": "code",
   "execution_count": null,
   "metadata": {
    "collapsed": true
   },
   "outputs": [],
   "source": [
    "title = 'NNN'\n",
    "subtitle = 'NNN'\n",
    "source = dict(label='NNN', \n",
    "              link='NNN')"
   ]
  },
  {
   "cell_type": "markdown",
   "metadata": {},
   "source": [
    "## Data Importation and Munging"
   ]
  },
  {
   "cell_type": "code",
   "execution_count": null,
   "metadata": {
    "collapsed": false
   },
   "outputs": [],
   "source": [
    "def extract_tidy_table(spec, raw_file, worksheet):\n",
    "    # Extract specs and use them to read in table\n",
    "    age_group, table_type, parse_cols, skiprows, skip_footer = spec\n",
    "    df = pd.read_excel(raw_file,\n",
    "                       sheetname=worksheet,\n",
    "                       parse_cols=parse_cols,\n",
    "                       skiprows=skiprows,\n",
    "                       skip_footer=skip_footer,\n",
    "                       header=True)\n",
    "    # Rename first column and make it an index called 'Subregion'\n",
    "    cols = df.columns.tolist()\n",
    "    cols[0] = 'Subregion'\n",
    "    df.columns = cols\n",
    "    # Reshape table to tidy format\n",
    "    df = pd.melt(df, id_vars=['Subregion'])\n",
    "    df.columns = ['subregion', 'condition', 'rate']\n",
    "    # Add columns with age and type (DALYS or deaths) and reorder\n",
    "    df['age'] = age_group\n",
    "    df['type'] = table_type\n",
    "    order = ['type', 'age', 'subregion', 'condition', 'rate']\n",
    "    df = df[order]\n",
    "    return df"
   ]
  },
  {
   "cell_type": "code",
   "execution_count": null,
   "metadata": {
    "collapsed": false,
    "scrolled": true
   },
   "outputs": [],
   "source": [
    "bottom_row = 149\n",
    "\n",
    "table_specs = [\n",
    "    ('<5 years', 'DALYs', 'A,C:L', 4, bottom_row - 10),\n",
    "    ('5-14 years', 'DALYs', 'A,C:L', 33, bottom_row - 39),\n",
    "    ('15-49 years', 'DALYs', 'A,C:L', 61, bottom_row - 67),\n",
    "    ('50-69 years', 'DALYs', 'A,C:L', 90, bottom_row - 96),\n",
    "    ('70+ years', 'DALYs', 'A,C:L', 118, bottom_row - 124),\n",
    "    ('<5 years', 'Deaths', 'N,P:Y', 4, bottom_row - 10),\n",
    "    ('5-14 years', 'Deaths', 'N,P:Y', 33, bottom_row - 39),\n",
    "    ('15-49 years', 'Deaths', 'N,P:Y', 61, bottom_row - 67),\n",
    "    ('50-69 years', 'Deaths', 'N,P:Y', 90, bottom_row - 96),\n",
    "    ('70+ years', 'Deaths', 'N,P:Y', 118, bottom_row - 124),\n",
    "    ]\n",
    "\n",
    "frames = []\n",
    "for spec in table_specs:\n",
    "    df = extract_tidy_table(spec, raw_file=RAW_FILE, worksheet=SHEET)\n",
    "    frames.append(df)\n",
    "    \n",
    "DF = pd.concat(frames)\n",
    "DF"
   ]
  },
  {
   "cell_type": "markdown",
   "metadata": {},
   "source": [
    "## TODO\n",
    "\n",
    "1. Check why missing value for Age-group 50-69 years, Cirrhosis, Western Europe\n",
    "2. Remember to insert footnote to expand COPD"
   ]
  },
  {
   "cell_type": "markdown",
   "metadata": {},
   "source": [
    "## Plotting"
   ]
  },
  {
   "cell_type": "code",
   "execution_count": null,
   "metadata": {
    "collapsed": true
   },
   "outputs": [],
   "source": []
  }
 ],
 "metadata": {
  "kernelspec": {
   "display_name": "Python 2",
   "language": "python",
   "name": "python2"
  },
  "language_info": {
   "codemirror_mode": {
    "name": "ipython",
    "version": 2
   },
   "file_extension": ".py",
   "mimetype": "text/x-python",
   "name": "python",
   "nbconvert_exporter": "python",
   "pygments_lexer": "ipython2",
   "version": "2.7.10"
  }
 },
 "nbformat": 4,
 "nbformat_minor": 0
}
