{
 "cells": [
  {
   "cell_type": "markdown",
   "metadata": {},
   "source": [
    "# Justification of Wife-Beating Among Adolescents"
   ]
  },
  {
   "cell_type": "markdown",
   "metadata": {},
   "source": [
    "## Setup"
   ]
  },
  {
   "cell_type": "code",
   "execution_count": 1,
   "metadata": {
    "collapsed": true
   },
   "outputs": [],
   "source": [
    "from __future__ import unicode_literals, print_function, division"
   ]
  },
  {
   "cell_type": "code",
   "execution_count": 2,
   "metadata": {
    "collapsed": true
   },
   "outputs": [],
   "source": [
    "import os"
   ]
  },
  {
   "cell_type": "code",
   "execution_count": 3,
   "metadata": {
    "collapsed": false
   },
   "outputs": [
    {
     "name": "stderr",
     "output_type": "stream",
     "text": [
      "/Users/gauden/anaconda/lib/python2.7/site-packages/pytz/__init__.py:29: UserWarning: Module argparse was already imported from /Users/gauden/anaconda/lib/python2.7/argparse.pyc, but /Users/gauden/anaconda/lib/python2.7/site-packages is being added to sys.path\n",
      "  from pkg_resources import resource_stream\n"
     ]
    }
   ],
   "source": [
    "import numpy as np\n",
    "import pandas as pd\n",
    "\n",
    "import plotly.plotly as py\n",
    "from plotly.graph_objs import *\n",
    "import plotly.tools as tls"
   ]
  },
  {
   "cell_type": "markdown",
   "metadata": {},
   "source": [
    "## Specific Configuration"
   ]
  },
  {
   "cell_type": "code",
   "execution_count": 4,
   "metadata": {
    "collapsed": true
   },
   "outputs": [],
   "source": [
    "DATA_DIR = os.path.join('.', 'data')\n",
    "RAW_FILE = os.path.join(DATA_DIR, 'raw_data_20150701.xlsx')"
   ]
  },
  {
   "cell_type": "markdown",
   "metadata": {},
   "source": [
    "## Notes\n",
    "\n",
    "Justification of wife-beating among adolescents – The percentage of boys and girls aged 15–19 who consider a husband to be justified in hitting or beating his wife for at least one of the specified reasons: if his wife burns the food, argues with him, goes out without telling him, neglects the children or refuses sexual relations. Data on male attitudes not available for Georgia, Montenegro, Tajikistan, TFYR of Macedonia and Turkey most likely because the question is not asked of males. \n",
    "\n",
    "Data refer to the most recent year available during the period specified in the column heading. Source: Unicef, http://www.unicef.org/sowc2011/fullreport.php [web site]. (http://www.unicef.org/sowc2011/fullreport.php, accessed 31 May 2015)."
   ]
  },
  {
   "cell_type": "code",
   "execution_count": 5,
   "metadata": {
    "collapsed": true
   },
   "outputs": [],
   "source": [
    "SHEET = 'Figure22'\n",
    "\n",
    "PARSE_COLS = 'A,C,E'\n",
    "SKIPROWS = 2\n",
    "SKIP_FOOTER = 35-13+1\n",
    "\n",
    "title = 'Justification of Wife-Beating Among Adolescents'\n",
    "subtitle = '(Percentage of girls and boys aged 15-19 years justifying wife-beating, 2005-2013)'\n",
    "source = dict(label='UNICEF', \n",
    "              link='http://www.unicef.org/sowc2011/fullreport.php',\n",
    "              accessed='31 May 2015')\n",
    "\n",
    "X_LABEL = 'Percent aged 15-19 yrs justifying wife beating'\n",
    "Y_LABEL = ''"
   ]
  },
  {
   "cell_type": "markdown",
   "metadata": {},
   "source": [
    "## Data Importation and Munging"
   ]
  },
  {
   "cell_type": "code",
   "execution_count": 6,
   "metadata": {
    "collapsed": false
   },
   "outputs": [
    {
     "name": "stderr",
     "output_type": "stream",
     "text": [
      "/Users/gauden/anaconda/lib/python2.7/site-packages/pandas/core/common.py:495: UnicodeWarning:\n",
      "\n",
      "Unicode equal comparison failed to convert both arguments to Unicode - interpreting them as being unequal\n",
      "\n"
     ]
    },
    {
     "data": {
      "text/html": [
       "<div style=\"max-height:1000px;max-width:1500px;overflow:auto;\">\n",
       "<table border=\"1\" class=\"dataframe\">\n",
       "  <thead>\n",
       "    <tr style=\"text-align: right;\">\n",
       "      <th></th>\n",
       "      <th>Country</th>\n",
       "      <th>male</th>\n",
       "      <th>female</th>\n",
       "    </tr>\n",
       "  </thead>\n",
       "  <tbody>\n",
       "    <tr>\n",
       "      <th>0 </th>\n",
       "      <td>                Albania</td>\n",
       "      <td> 36.6</td>\n",
       "      <td> 23.8</td>\n",
       "    </tr>\n",
       "    <tr>\n",
       "      <th>1 </th>\n",
       "      <td>                Armenia</td>\n",
       "      <td> 21.3</td>\n",
       "      <td>  7.8</td>\n",
       "    </tr>\n",
       "    <tr>\n",
       "      <th>2 </th>\n",
       "      <td>             Azerbaijan</td>\n",
       "      <td> 63.1</td>\n",
       "      <td> 39.0</td>\n",
       "    </tr>\n",
       "    <tr>\n",
       "      <th>3 </th>\n",
       "      <td>                Belarus</td>\n",
       "      <td>  2.6</td>\n",
       "      <td>  2.8</td>\n",
       "    </tr>\n",
       "    <tr>\n",
       "      <th>4 </th>\n",
       "      <td> Bosnia and Herzegovina</td>\n",
       "      <td>  5.0</td>\n",
       "      <td>  1.3</td>\n",
       "    </tr>\n",
       "    <tr>\n",
       "      <th>5 </th>\n",
       "      <td>                Georgia</td>\n",
       "      <td>  NaN</td>\n",
       "      <td>  4.9</td>\n",
       "    </tr>\n",
       "    <tr>\n",
       "      <th>6 </th>\n",
       "      <td>             Kazakhstan</td>\n",
       "      <td> 13.5</td>\n",
       "      <td>  9.4</td>\n",
       "    </tr>\n",
       "    <tr>\n",
       "      <th>7 </th>\n",
       "      <td>             Montenegro</td>\n",
       "      <td>  NaN</td>\n",
       "      <td>  6.3</td>\n",
       "    </tr>\n",
       "    <tr>\n",
       "      <th>8 </th>\n",
       "      <td>    Republic of Moldova</td>\n",
       "      <td> 14.2</td>\n",
       "      <td> 12.6</td>\n",
       "    </tr>\n",
       "    <tr>\n",
       "      <th>9 </th>\n",
       "      <td>                 Serbia</td>\n",
       "      <td>  5.6</td>\n",
       "      <td>  2.4</td>\n",
       "    </tr>\n",
       "    <tr>\n",
       "      <th>10</th>\n",
       "      <td>             Tajikistan</td>\n",
       "      <td>  NaN</td>\n",
       "      <td> 46.5</td>\n",
       "    </tr>\n",
       "    <tr>\n",
       "      <th>11</th>\n",
       "      <td>                   MKDb</td>\n",
       "      <td>  NaN</td>\n",
       "      <td> 13.7</td>\n",
       "    </tr>\n",
       "    <tr>\n",
       "      <th>12</th>\n",
       "      <td>                 Turkey</td>\n",
       "      <td>  NaN</td>\n",
       "      <td> 29.6</td>\n",
       "    </tr>\n",
       "    <tr>\n",
       "      <th>13</th>\n",
       "      <td>                Ukraine</td>\n",
       "      <td>  1.6</td>\n",
       "      <td>  2.2</td>\n",
       "    </tr>\n",
       "    <tr>\n",
       "      <th>14</th>\n",
       "      <td>             Uzbekistan</td>\n",
       "      <td> 62.8</td>\n",
       "      <td> 63.0</td>\n",
       "    </tr>\n",
       "  </tbody>\n",
       "</table>\n",
       "</div>"
      ],
      "text/plain": [
       "                   Country  male  female\n",
       "0                  Albania  36.6    23.8\n",
       "1                  Armenia  21.3     7.8\n",
       "2               Azerbaijan  63.1    39.0\n",
       "3                  Belarus   2.6     2.8\n",
       "4   Bosnia and Herzegovina   5.0     1.3\n",
       "5                  Georgia   NaN     4.9\n",
       "6               Kazakhstan  13.5     9.4\n",
       "7               Montenegro   NaN     6.3\n",
       "8      Republic of Moldova  14.2    12.6\n",
       "9                   Serbia   5.6     2.4\n",
       "10              Tajikistan   NaN    46.5\n",
       "11                    MKDb   NaN    13.7\n",
       "12                  Turkey   NaN    29.6\n",
       "13                 Ukraine   1.6     2.2\n",
       "14              Uzbekistan  62.8    63.0"
      ]
     },
     "execution_count": 6,
     "metadata": {},
     "output_type": "execute_result"
    }
   ],
   "source": [
    "DF = pd.read_excel(RAW_FILE,\n",
    "                   sheetname=SHEET,\n",
    "                   parse_cols=PARSE_COLS,\n",
    "                   skiprows=SKIPROWS,\n",
    "                   skip_footer=SKIP_FOOTER)\n",
    "DF.replace(u'–', np.NaN, inplace=True)\n",
    "DF"
   ]
  },
  {
   "cell_type": "markdown",
   "metadata": {},
   "source": [
    "## Plotting"
   ]
  },
  {
   "cell_type": "code",
   "execution_count": null,
   "metadata": {
    "collapsed": true
   },
   "outputs": [],
   "source": []
  }
 ],
 "metadata": {
  "kernelspec": {
   "display_name": "Python 2",
   "language": "python",
   "name": "python2"
  },
  "language_info": {
   "codemirror_mode": {
    "name": "ipython",
    "version": 2
   },
   "file_extension": ".py",
   "mimetype": "text/x-python",
   "name": "python",
   "nbconvert_exporter": "python",
   "pygments_lexer": "ipython2",
   "version": "2.7.10"
  }
 },
 "nbformat": 4,
 "nbformat_minor": 0
}
