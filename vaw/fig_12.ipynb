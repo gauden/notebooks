{
 "cells": [
  {
   "cell_type": "markdown",
   "metadata": {},
   "source": [
    "# Justification of Wife-Beating Among Adolescents"
   ]
  },
  {
   "cell_type": "markdown",
   "metadata": {},
   "source": [
    "## Setup"
   ]
  },
  {
   "cell_type": "code",
   "execution_count": 1,
   "metadata": {
    "collapsed": true
   },
   "outputs": [],
   "source": [
    "from __future__ import unicode_literals, print_function, division"
   ]
  },
  {
   "cell_type": "code",
   "execution_count": 2,
   "metadata": {
    "collapsed": true
   },
   "outputs": [],
   "source": [
    "import os"
   ]
  },
  {
   "cell_type": "code",
   "execution_count": 3,
   "metadata": {
    "collapsed": false
   },
   "outputs": [
    {
     "name": "stderr",
     "output_type": "stream",
     "text": [
      "/Users/gauden/anaconda/lib/python2.7/site-packages/pytz/__init__.py:29: UserWarning: Module argparse was already imported from /Users/gauden/anaconda/lib/python2.7/argparse.pyc, but /Users/gauden/anaconda/lib/python2.7/site-packages is being added to sys.path\n",
      "  from pkg_resources import resource_stream\n"
     ]
    }
   ],
   "source": [
    "import numpy as np\n",
    "import pandas as pd\n",
    "\n",
    "import plotly.plotly as py\n",
    "from plotly.graph_objs import *\n",
    "import plotly.tools as tls"
   ]
  },
  {
   "cell_type": "code",
   "execution_count": 4,
   "metadata": {
    "collapsed": true
   },
   "outputs": [],
   "source": [
    "import plot_constants as pc"
   ]
  },
  {
   "cell_type": "markdown",
   "metadata": {},
   "source": [
    "## Specific Configuration"
   ]
  },
  {
   "cell_type": "code",
   "execution_count": 5,
   "metadata": {
    "collapsed": true
   },
   "outputs": [],
   "source": [
    "DATA_DIR = os.path.join('.', 'data')\n",
    "RAW_FILE = os.path.join(DATA_DIR, 'raw_data_20150701.xlsx')"
   ]
  },
  {
   "cell_type": "markdown",
   "metadata": {},
   "source": [
    "## Notes\n",
    "\n",
    "Justification of wife-beating among adolescents – The percentage of boys and girls aged 15–19 who consider a husband to be justified in hitting or beating his wife for at least one of the specified reasons: if his wife burns the food, argues with him, goes out without telling him, neglects the children or refuses sexual relations. Data on male attitudes not available for Georgia, Montenegro, Tajikistan, TFYR of Macedonia and Turkey most likely because the question is not asked of males. \n",
    "\n",
    "Data refer to the most recent year available during the period specified in the column heading. Source: Unicef, http://www.unicef.org/sowc2011/fullreport.php [web site]. (http://www.unicef.org/sowc2011/fullreport.php, accessed 31 May 2015)."
   ]
  },
  {
   "cell_type": "code",
   "execution_count": 6,
   "metadata": {
    "collapsed": true
   },
   "outputs": [],
   "source": [
    "SHEET = 'Figure22'\n",
    "\n",
    "PARSE_COLS = 'A,C,E'\n",
    "SKIPROWS = 2\n",
    "SKIP_FOOTER = 35-13+1\n",
    "\n",
    "title = 'Justification of Wife-Beating Among Adolescents'\n",
    "subtitle = '(Percentage of girls and boys aged 15-19 years justifying wife-beating, 2005-2013)'\n",
    "source = dict(label='UNICEF', \n",
    "              link='http://www.unicef.org/sowc2011/fullreport.php',\n",
    "              accessed='31 May 2015')\n",
    "\n",
    "X_LABEL = 'Percent aged 15-19 yrs justifying wife beating'\n",
    "Y_LABEL = ''"
   ]
  },
  {
   "cell_type": "markdown",
   "metadata": {},
   "source": [
    "## Data Importation and Munging"
   ]
  },
  {
   "cell_type": "code",
   "execution_count": 7,
   "metadata": {
    "collapsed": false
   },
   "outputs": [
    {
     "name": "stderr",
     "output_type": "stream",
     "text": [
      "/Users/gauden/anaconda/lib/python2.7/site-packages/pandas/core/common.py:495: UnicodeWarning:\n",
      "\n",
      "Unicode equal comparison failed to convert both arguments to Unicode - interpreting them as being unequal\n",
      "\n"
     ]
    },
    {
     "data": {
      "text/html": [
       "<div style=\"max-height:1000px;max-width:1500px;overflow:auto;\">\n",
       "<table border=\"1\" class=\"dataframe\">\n",
       "  <thead>\n",
       "    <tr style=\"text-align: right;\">\n",
       "      <th></th>\n",
       "      <th>Country</th>\n",
       "      <th>male</th>\n",
       "      <th>female</th>\n",
       "      <th>gap</th>\n",
       "    </tr>\n",
       "  </thead>\n",
       "  <tbody>\n",
       "    <tr>\n",
       "      <th>4 </th>\n",
       "      <td> Bosnia and Herzegovina</td>\n",
       "      <td>  5.0</td>\n",
       "      <td>  1.3</td>\n",
       "      <td>  3.7</td>\n",
       "    </tr>\n",
       "    <tr>\n",
       "      <th>13</th>\n",
       "      <td>                Ukraine</td>\n",
       "      <td>  1.6</td>\n",
       "      <td>  2.2</td>\n",
       "      <td> -0.6</td>\n",
       "    </tr>\n",
       "    <tr>\n",
       "      <th>9 </th>\n",
       "      <td>                 Serbia</td>\n",
       "      <td>  5.6</td>\n",
       "      <td>  2.4</td>\n",
       "      <td>  3.2</td>\n",
       "    </tr>\n",
       "    <tr>\n",
       "      <th>3 </th>\n",
       "      <td>                Belarus</td>\n",
       "      <td>  2.6</td>\n",
       "      <td>  2.8</td>\n",
       "      <td> -0.2</td>\n",
       "    </tr>\n",
       "    <tr>\n",
       "      <th>5 </th>\n",
       "      <td>                Georgia</td>\n",
       "      <td>  NaN</td>\n",
       "      <td>  4.9</td>\n",
       "      <td>  NaN</td>\n",
       "    </tr>\n",
       "    <tr>\n",
       "      <th>7 </th>\n",
       "      <td>             Montenegro</td>\n",
       "      <td>  NaN</td>\n",
       "      <td>  6.3</td>\n",
       "      <td>  NaN</td>\n",
       "    </tr>\n",
       "    <tr>\n",
       "      <th>1 </th>\n",
       "      <td>                Armenia</td>\n",
       "      <td> 21.3</td>\n",
       "      <td>  7.8</td>\n",
       "      <td> 13.5</td>\n",
       "    </tr>\n",
       "    <tr>\n",
       "      <th>6 </th>\n",
       "      <td>             Kazakhstan</td>\n",
       "      <td> 13.5</td>\n",
       "      <td>  9.4</td>\n",
       "      <td>  4.1</td>\n",
       "    </tr>\n",
       "    <tr>\n",
       "      <th>8 </th>\n",
       "      <td>    Republic of Moldova</td>\n",
       "      <td> 14.2</td>\n",
       "      <td> 12.6</td>\n",
       "      <td>  1.6</td>\n",
       "    </tr>\n",
       "    <tr>\n",
       "      <th>11</th>\n",
       "      <td>                   MKDb</td>\n",
       "      <td>  NaN</td>\n",
       "      <td> 13.7</td>\n",
       "      <td>  NaN</td>\n",
       "    </tr>\n",
       "    <tr>\n",
       "      <th>0 </th>\n",
       "      <td>                Albania</td>\n",
       "      <td> 36.6</td>\n",
       "      <td> 23.8</td>\n",
       "      <td> 12.8</td>\n",
       "    </tr>\n",
       "    <tr>\n",
       "      <th>12</th>\n",
       "      <td>                 Turkey</td>\n",
       "      <td>  NaN</td>\n",
       "      <td> 29.6</td>\n",
       "      <td>  NaN</td>\n",
       "    </tr>\n",
       "    <tr>\n",
       "      <th>2 </th>\n",
       "      <td>             Azerbaijan</td>\n",
       "      <td> 63.1</td>\n",
       "      <td> 39.0</td>\n",
       "      <td> 24.1</td>\n",
       "    </tr>\n",
       "    <tr>\n",
       "      <th>10</th>\n",
       "      <td>             Tajikistan</td>\n",
       "      <td>  NaN</td>\n",
       "      <td> 46.5</td>\n",
       "      <td>  NaN</td>\n",
       "    </tr>\n",
       "    <tr>\n",
       "      <th>14</th>\n",
       "      <td>             Uzbekistan</td>\n",
       "      <td> 62.8</td>\n",
       "      <td> 63.0</td>\n",
       "      <td> -0.2</td>\n",
       "    </tr>\n",
       "  </tbody>\n",
       "</table>\n",
       "</div>"
      ],
      "text/plain": [
       "                   Country  male  female   gap\n",
       "4   Bosnia and Herzegovina   5.0     1.3   3.7\n",
       "13                 Ukraine   1.6     2.2  -0.6\n",
       "9                   Serbia   5.6     2.4   3.2\n",
       "3                  Belarus   2.6     2.8  -0.2\n",
       "5                  Georgia   NaN     4.9   NaN\n",
       "7               Montenegro   NaN     6.3   NaN\n",
       "1                  Armenia  21.3     7.8  13.5\n",
       "6               Kazakhstan  13.5     9.4   4.1\n",
       "8      Republic of Moldova  14.2    12.6   1.6\n",
       "11                    MKDb   NaN    13.7   NaN\n",
       "0                  Albania  36.6    23.8  12.8\n",
       "12                  Turkey   NaN    29.6   NaN\n",
       "2               Azerbaijan  63.1    39.0  24.1\n",
       "10              Tajikistan   NaN    46.5   NaN\n",
       "14              Uzbekistan  62.8    63.0  -0.2"
      ]
     },
     "execution_count": 7,
     "metadata": {},
     "output_type": "execute_result"
    }
   ],
   "source": [
    "DF = pd.read_excel(RAW_FILE,\n",
    "                   sheetname=SHEET,\n",
    "                   parse_cols=PARSE_COLS,\n",
    "                   skiprows=SKIPROWS,\n",
    "                   skip_footer=SKIP_FOOTER)\n",
    "DF.replace(u'–', np.NaN, inplace=True)\n",
    "DF['gap'] = DF.male - DF.female\n",
    "DF = DF.sort(['female'])\n",
    "DF"
   ]
  },
  {
   "cell_type": "markdown",
   "metadata": {},
   "source": [
    "## Plotting"
   ]
  },
  {
   "cell_type": "code",
   "execution_count": 8,
   "metadata": {
    "collapsed": false
   },
   "outputs": [
    {
     "data": {
      "text/html": [
       "<iframe id=\"igraph\" scrolling=\"no\" style=\"border:none;\"seamless=\"seamless\" src=\"https://plot.ly/~gauden/241.embed\" height=\"600.0\" width=\"100%\"></iframe>"
      ],
      "text/plain": [
       "<plotly.tools.PlotlyDisplay object>"
      ]
     },
     "execution_count": 8,
     "metadata": {},
     "output_type": "execute_result"
    }
   ],
   "source": [
    "plot_height = pc.PLOT_HEIGHT * 0.6\n",
    "plot_width = pc.PLOT_WIDTH\n",
    "filename = 'vaw/fig_12'\n",
    "\n",
    "def make_scatter(x, y, name, fill_color, line_color, symbol):\n",
    "    trace = Scatter(x=x,\n",
    "                    y=y,\n",
    "                    mode='markers',\n",
    "                    name=name,\n",
    "                    marker=Marker(color=fill_color,\n",
    "                                  line=Line(color=line_color,\n",
    "                                            width=1,\n",
    "                                           ),\n",
    "                                  symbol=symbol,\n",
    "                                  size=12,)\n",
    "                   )\n",
    "    return trace\n",
    "\n",
    "female_trace = make_scatter(x=DF.female,\n",
    "                            y=DF.Country,\n",
    "                            name='Female',\n",
    "                            fill_color=pc.FEMALE_FILL,\n",
    "                            line_color=pc.FEMALE_LINE,\n",
    "                            symbol=pc.FEMALE_SYMBOL)\n",
    "\n",
    "male_trace = make_scatter(x=DF.male,\n",
    "                          y=DF.Country,\n",
    "                          name='Male',\n",
    "                          fill_color=pc.MALE_FILL,\n",
    "                          line_color=pc.MALE_LINE,\n",
    "                          symbol=pc.MALE_SYMBOL)\n",
    "\n",
    "data = Data([male_trace, female_trace])\n",
    "\n",
    "layout = Layout(\n",
    "    title = '<b>{}</b><br>{}'.format(title, subtitle),\n",
    "    autosize=False,\n",
    "    width=plot_width,\n",
    "    height=plot_height,\n",
    "    hovermode='y',\n",
    "    margin=Margin(\n",
    "        l=150,\n",
    "        r=120,\n",
    "        pad=0\n",
    "    ),\n",
    "    xaxis=XAxis(dict(zeroline=False), title=X_LABEL),\n",
    "    yaxis=YAxis(title=Y_LABEL),\n",
    "    annotations=Annotations([\n",
    "        Annotation(\n",
    "            x=0,\n",
    "            y=-0.2,\n",
    "            xref='paper',\n",
    "            yref='paper',\n",
    "            text='Source: <a href=\"{}\">{}</a>'.format(source['link'],source['label']),\n",
    "            align='center',\n",
    "            showarrow=False\n",
    "        )\n",
    "    ]),\n",
    ")\n",
    "\n",
    "fig = Figure(data=data, layout=layout)\n",
    "py.iplot(fig, filename=filename, height=plot_height)"
   ]
  }
 ],
 "metadata": {
  "kernelspec": {
   "display_name": "Python 2",
   "language": "python",
   "name": "python2"
  },
  "language_info": {
   "codemirror_mode": {
    "name": "ipython",
    "version": 2
   },
   "file_extension": ".py",
   "mimetype": "text/x-python",
   "name": "python",
   "nbconvert_exporter": "python",
   "pygments_lexer": "ipython2",
   "version": "2.7.10"
  }
 },
 "nbformat": 4,
 "nbformat_minor": 0
}
