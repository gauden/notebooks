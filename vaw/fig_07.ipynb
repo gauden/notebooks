{
 "cells": [
  {
   "cell_type": "markdown",
   "metadata": {},
   "source": [
    "# Probability of dying before 5 years"
   ]
  },
  {
   "cell_type": "markdown",
   "metadata": {},
   "source": [
    "## Setup"
   ]
  },
  {
   "cell_type": "code",
   "execution_count": 1,
   "metadata": {
    "collapsed": true
   },
   "outputs": [],
   "source": [
    "from __future__ import unicode_literals, print_function, division"
   ]
  },
  {
   "cell_type": "code",
   "execution_count": 2,
   "metadata": {
    "collapsed": true
   },
   "outputs": [],
   "source": [
    "import os"
   ]
  },
  {
   "cell_type": "code",
   "execution_count": 3,
   "metadata": {
    "collapsed": false
   },
   "outputs": [
    {
     "name": "stderr",
     "output_type": "stream",
     "text": [
      "/Users/gauden/anaconda/lib/python2.7/site-packages/pytz/__init__.py:29: UserWarning: Module argparse was already imported from /Users/gauden/anaconda/lib/python2.7/argparse.pyc, but /Users/gauden/anaconda/lib/python2.7/site-packages is being added to sys.path\n",
      "  from pkg_resources import resource_stream\n"
     ]
    }
   ],
   "source": [
    "import pandas as pd\n",
    "\n",
    "import plotly.plotly as py\n",
    "from plotly.graph_objs import *\n",
    "import plotly.tools as tls"
   ]
  },
  {
   "cell_type": "code",
   "execution_count": 4,
   "metadata": {
    "collapsed": true
   },
   "outputs": [],
   "source": [
    "import plot_constants as pc"
   ]
  },
  {
   "cell_type": "markdown",
   "metadata": {},
   "source": [
    "## Specific Configuration"
   ]
  },
  {
   "cell_type": "code",
   "execution_count": 5,
   "metadata": {
    "collapsed": true
   },
   "outputs": [],
   "source": [
    "DATA_DIR = os.path.join('.', 'data')\n",
    "RAW_FILE = os.path.join(DATA_DIR, 'raw_data_20150701.xlsx')"
   ]
  },
  {
   "cell_type": "code",
   "execution_count": 6,
   "metadata": {
    "collapsed": true
   },
   "outputs": [],
   "source": [
    "SHEET = 'Figure13'\n",
    "\n",
    "PARSE_COLS = 'A:D'\n",
    "SKIPROWS = 2\n",
    "SKIP_FOOTER = 22-6\n",
    "\n",
    "title = 'Probability of dying before 5 years'\n",
    "subtitle = '(per 1000 live births, girls and boys, WHO European Region, 2000-2012)'\n",
    "source = dict(label='European Health for All Database (HFA, DB), WHO/Europe.', \n",
    "              link=('http://www.euro.who.int/en/data-and-evidence/databases/',\n",
    "                    'european-health-for-all-database-hfa-db'))\n",
    "\n",
    "X_LABEL = 'Year'\n",
    "Y_LABEL = 'Probability of dying before 5 years per 1000 live births'"
   ]
  },
  {
   "cell_type": "markdown",
   "metadata": {},
   "source": [
    "## Data Importation and Munging"
   ]
  },
  {
   "cell_type": "code",
   "execution_count": 7,
   "metadata": {
    "collapsed": false
   },
   "outputs": [
    {
     "data": {
      "text/html": [
       "<div style=\"max-height:1000px;max-width:1500px;overflow:auto;\">\n",
       "<table border=\"1\" class=\"dataframe\">\n",
       "  <thead>\n",
       "    <tr style=\"text-align: right;\">\n",
       "      <th></th>\n",
       "      <th>Male</th>\n",
       "      <th>Female</th>\n",
       "    </tr>\n",
       "  </thead>\n",
       "  <tbody>\n",
       "    <tr>\n",
       "      <th>2000</th>\n",
       "      <td> 13.97</td>\n",
       "      <td> 11.14</td>\n",
       "    </tr>\n",
       "    <tr>\n",
       "      <th>2005</th>\n",
       "      <td> 11.42</td>\n",
       "      <td>  9.13</td>\n",
       "    </tr>\n",
       "    <tr>\n",
       "      <th>2012</th>\n",
       "      <td>  9.67</td>\n",
       "      <td>  7.87</td>\n",
       "    </tr>\n",
       "  </tbody>\n",
       "</table>\n",
       "</div>"
      ],
      "text/plain": [
       "       Male  Female\n",
       "2000  13.97   11.14\n",
       "2005  11.42    9.13\n",
       "2012   9.67    7.87"
      ]
     },
     "execution_count": 7,
     "metadata": {},
     "output_type": "execute_result"
    }
   ],
   "source": [
    "DF = pd.read_excel(RAW_FILE,\n",
    "                   sheetname=SHEET,\n",
    "                   parse_cols=PARSE_COLS,\n",
    "                   skiprows=SKIPROWS,\n",
    "                   skip_footer=SKIP_FOOTER)\n",
    "\n",
    "DF.columns = ['year', 2000, 2005, 2012]\n",
    "DF.set_index('year', inplace=True)\n",
    "DF = DF.T\n",
    "DF.columns = [u'Male', u'Female']\n",
    "DF"
   ]
  },
  {
   "cell_type": "markdown",
   "metadata": {},
   "source": [
    "## Plotting"
   ]
  },
  {
   "cell_type": "code",
   "execution_count": 8,
   "metadata": {
    "collapsed": false
   },
   "outputs": [
    {
     "data": {
      "text/html": [
       "<iframe id=\"igraph\" scrolling=\"no\" style=\"border:none;\"seamless=\"seamless\" src=\"https://plot.ly/~gauden/219.embed\" height=\"1000\" width=\"100%\"></iframe>"
      ],
      "text/plain": [
       "<plotly.tools.PlotlyDisplay object>"
      ]
     },
     "execution_count": 8,
     "metadata": {},
     "output_type": "execute_result"
    }
   ],
   "source": [
    "plot_height = pc.PLOT_HEIGHT\n",
    "plot_width = pc.PLOT_WIDTH\n",
    "filename = 'vaw/fig_07'\n",
    "\n",
    "def make_scatter(x, y, name, fill_color, line_color, symbol):\n",
    "    trace = Scatter(x=x,\n",
    "                    y=y,\n",
    "                    mode='markers+lines',\n",
    "                    name=name,\n",
    "                    marker=Marker(color=fill_color,\n",
    "                                  line=Line(color=line_color,\n",
    "                                            width=1,\n",
    "                                           ),\n",
    "                                  symbol=symbol,\n",
    "                                  size=12,)\n",
    "                   )\n",
    "    return trace\n",
    "\n",
    "female_trace = make_scatter(x=DF.index,\n",
    "                            y=DF.Female,\n",
    "                            name='Female',\n",
    "                            fill_color=pc.FEMALE_FILL,\n",
    "                            line_color=pc.FEMALE_LINE,\n",
    "                            symbol=pc.FEMALE_SYMBOL)\n",
    "\n",
    "male_trace = make_scatter(x=DF.index,\n",
    "                          y=DF.Male,\n",
    "                          name='Male',\n",
    "                          fill_color=pc.MALE_FILL,\n",
    "                          line_color=pc.MALE_LINE,\n",
    "                          symbol=pc.MALE_SYMBOL)\n",
    "\n",
    "data = Data([female_trace, male_trace])\n",
    "\n",
    "layout = Layout(\n",
    "    title = '<b>{}</b><br>{}'.format(title, subtitle),\n",
    "    autosize=False,\n",
    "    width=plot_width,\n",
    "    height=plot_height,\n",
    "    margin=Margin(\n",
    "        l=150,\n",
    "        r=120,\n",
    "        pad=0\n",
    "    ),\n",
    "    xaxis=XAxis(title=X_LABEL),\n",
    "    yaxis=YAxis(title=Y_LABEL,\n",
    "               range=[0,DF.Male.max()+1]),\n",
    "    annotations=Annotations([\n",
    "        Annotation(\n",
    "            x=0.5,\n",
    "            y=-0.1,\n",
    "            xref='paper',\n",
    "            yref='paper',\n",
    "            text='Source: <a href=\"{}\">{}</a>'.format(source['link'],source['label']),\n",
    "            align='center',\n",
    "            showarrow=False\n",
    "        )\n",
    "    ]),\n",
    ")\n",
    "\n",
    "fig = Figure(data=data, layout=layout)\n",
    "py.iplot(fig, filename=filename, height=plot_height)"
   ]
  }
 ],
 "metadata": {
  "kernelspec": {
   "display_name": "Python 2",
   "language": "python",
   "name": "python2"
  },
  "language_info": {
   "codemirror_mode": {
    "name": "ipython",
    "version": 2
   },
   "file_extension": ".py",
   "mimetype": "text/x-python",
   "name": "python",
   "nbconvert_exporter": "python",
   "pygments_lexer": "ipython2",
   "version": "2.7.10"
  }
 },
 "nbformat": 4,
 "nbformat_minor": 0
}
